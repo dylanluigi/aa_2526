{
 "cells": [
  {
   "cell_type": "code",
   "execution_count": 1,
   "id": "bf61dbbd",
   "metadata": {},
   "outputs": [],
   "source": [
    "from sklearn.metrics import accuracy_score\n",
    "\n",
    "import torch, os, glob\n",
    "import torch.nn as nn\n",
    "\n",
    "from torchvision import datasets, transforms\n",
    "from torch.utils.data import DataLoader, Dataset\n",
    "\n",
    "from tqdm import tqdm\n",
    "\n",
    "from PIL import Image"
   ]
  },
  {
   "cell_type": "code",
   "execution_count": null,
   "id": "a3272610",
   "metadata": {},
   "outputs": [
    {
     "name": "stdout",
     "output_type": "stream",
     "text": [
      "Train classes     : ['0', '4']\n",
      "Test  classes     : ['0', '4']\n",
      "Train class_to_idx: {'0': 0, '4': 1}\n",
      "Test  class_to_idx: {'0': 0, '4': 1}\n"
     ]
    }
   ],
   "source": [
    "from torchvision import datasets, transforms as T\n",
    "from torch.utils.data import DataLoader\n",
    "import torch\n",
    "\n",
    "train_dir = \"export/train\"\n",
    "test_dir  = \"export/test\"   \n",
    "\n",
    "\n",
    "train_tf = T.Compose([\n",
    "    T.Resize((64, 64)),\n",
    "    T.RandomHorizontalFlip(p=0.5),\n",
    "    T.ToTensor(),\n",
    "    T.Normalize([0.485,0.456,0.406],[0.229,0.224,0.225]),\n",
    "])\n",
    "\n",
    "test_tf = T.Compose([\n",
    "    T.Resize((64, 64)),\n",
    "    T.ToTensor(),\n",
    "    T.Normalize([0.485,0.456,0.406],[0.229,0.224,0.225]),\n",
    "])\n",
    "\n",
    "train_ds = datasets.ImageFolder(train_dir, transform=train_tf)\n",
    "test_ds  = datasets.ImageFolder(test_dir,  transform=test_tf)\n",
    "\n",
    "print(\"Train classes     :\", train_ds.classes)\n",
    "print(\"Test  classes     :\", test_ds.classes)\n",
    "print(\"Train class_to_idx:\", train_ds.class_to_idx)\n",
    "print(\"Test  class_to_idx:\", test_ds.class_to_idx)\n",
    "\n",
    "BATCH_SIZE = 64\n",
    "pin = torch.cuda.is_available()\n",
    "train_loader = DataLoader(train_ds, batch_size=BATCH_SIZE, shuffle=True,  num_workers=2, pin_memory=pin)\n",
    "test_loader  = DataLoader(test_ds,  batch_size=BATCH_SIZE, shuffle=False, num_workers=2, pin_memory=pin)\n"
   ]
  },
  {
   "cell_type": "code",
   "execution_count": null,
   "id": "8b42d6c6",
   "metadata": {},
   "outputs": [],
   "source": [
    "def make_mlp(in_shape=(3,64,64), num_classes=len(train_ds.classes), width=512, p=0.30):\n",
    "    in_dim = in_shape[0]*in_shape[1]*in_shape[2]\n",
    "    return nn.Sequential(\n",
    "        nn.Flatten(),\n",
    "        nn.Linear(in_dim, width), nn.GELU(), nn.Dropout(p),\n",
    "        nn.Linear(width, width), nn.LayerNorm(width), nn.GELU(), nn.Dropout(p),\n",
    "        nn.Linear(width, width//2), nn.GELU(), nn.Dropout(p),\n",
    "        nn.Linear(width//2, num_classes) \n",
    "    )\n",
    "\n",
    "model = make_mlp()\n",
    "criterion = nn.CrossEntropyLoss()\n",
    "optimizer = torch.optim.AdamW(model.parameters(), lr=1e-4, weight_decay=1e-4)\n",
    "scheduler = torch.optim.lr_scheduler.ReduceLROnPlateau(\n",
    "    optimizer,\n",
    "    mode='max',       \n",
    "    factor=0.5,       \n",
    "    patience=2,       \n",
    ")\n",
    "\n"
   ]
  },
  {
   "cell_type": "code",
   "execution_count": null,
   "id": "c86bbe83",
   "metadata": {},
   "outputs": [
    {
     "name": "stdout",
     "output_type": "stream",
     "text": [
      "Epoch 00 | LR:0.000100 | Train Loss:0.7012/ Acc:0.490 | Val Loss:0.6916/ Acc:0.500\n",
      "Epoch 01 | LR:0.000100 | Train Loss:0.6943/ Acc:0.514 | Val Loss:0.6913/ Acc:0.500\n",
      "Epoch 02 | LR:0.000100 | Train Loss:0.6919/ Acc:0.526 | Val Loss:0.6923/ Acc:0.500\n",
      "Epoch 03 | LR:0.000050 | Train Loss:0.6906/ Acc:0.531 | Val Loss:0.7058/ Acc:0.500\n",
      "Epoch 04 | LR:0.000050 | Train Loss:0.6903/ Acc:0.526 | Val Loss:0.6854/ Acc:0.550\n",
      "Epoch 05 | LR:0.000050 | Train Loss:0.6903/ Acc:0.538 | Val Loss:0.6840/ Acc:0.500\n",
      "Epoch 06 | LR:0.000050 | Train Loss:0.6837/ Acc:0.547 | Val Loss:0.6754/ Acc:0.600\n",
      "Epoch 07 | LR:0.000050 | Train Loss:0.6773/ Acc:0.567 | Val Loss:0.6611/ Acc:0.600\n",
      "Epoch 08 | LR:0.000050 | Train Loss:0.6510/ Acc:0.619 | Val Loss:0.6012/ Acc:0.700\n",
      "Epoch 09 | LR:0.000050 | Train Loss:0.5678/ Acc:0.725 | Val Loss:0.5064/ Acc:0.700\n",
      "Epoch 10 | LR:0.000050 | Train Loss:0.5197/ Acc:0.741 | Val Loss:0.4301/ Acc:0.800\n",
      "Epoch 11 | LR:0.000050 | Train Loss:0.4475/ Acc:0.788 | Val Loss:0.3015/ Acc:0.800\n",
      "Epoch 12 | LR:0.000050 | Train Loss:0.4081/ Acc:0.809 | Val Loss:0.2767/ Acc:0.850\n",
      "Epoch 13 | LR:0.000050 | Train Loss:0.4723/ Acc:0.765 | Val Loss:0.3092/ Acc:0.900\n",
      "Epoch 14 | LR:0.000050 | Train Loss:0.4096/ Acc:0.818 | Val Loss:0.2748/ Acc:0.900\n",
      "Epoch 15 | LR:0.000050 | Train Loss:0.3586/ Acc:0.834 | Val Loss:0.1971/ Acc:0.850\n",
      "Epoch 16 | LR:0.000025 | Train Loss:0.3244/ Acc:0.845 | Val Loss:0.2555/ Acc:0.850\n",
      "Epoch 17 | LR:0.000025 | Train Loss:0.3063/ Acc:0.856 | Val Loss:0.1588/ Acc:0.950\n",
      "Epoch 18 | LR:0.000025 | Train Loss:0.2950/ Acc:0.868 | Val Loss:0.1414/ Acc:0.950\n",
      "Epoch 19 | LR:0.000025 | Train Loss:0.2777/ Acc:0.867 | Val Loss:0.1258/ Acc:0.950\n"
     ]
    }
   ],
   "source": [
    "import torch\n",
    "\n",
    "device = torch.device(\"cuda\" if torch.cuda.is_available() else \"cpu\")\n",
    "model.to(device)\n",
    "\n",
    "def run_epoch(loader, train: bool):\n",
    "    model.train(train)\n",
    "    total_loss = 0.0\n",
    "    correct = 0\n",
    "    total = 0\n",
    "    for x, y in loader:\n",
    "        x = x.to(device)\n",
    "        y = y.to(device, dtype=torch.long)\n",
    "        if train:\n",
    "            optimizer.zero_grad()\n",
    "        logits = model(x)\n",
    "        loss = criterion(logits, y)\n",
    "        if train:\n",
    "            loss.backward()\n",
    "            optimizer.step()\n",
    "        total_loss += loss.item() * x.size(0)\n",
    "        correct += (logits.argmax(1) == y).sum().item()\n",
    "        total += x.size(0)\n",
    "    return total_loss / total, correct / total\n",
    "\n",
    "\n",
    "best_acc = 0.0\n",
    "for epoch in range(20):\n",
    "    tr_loss, tr_acc = run_epoch(train_loader, train=True)\n",
    "    te_loss, te_acc = run_epoch(test_loader,  train=False)\n",
    "\n",
    "    \n",
    "    scheduler.step(te_acc)\n",
    "\n",
    "    \n",
    "    if te_acc > best_acc:\n",
    "        best_acc = te_acc\n",
    "        torch.save(model.state_dict(), \"best_model.pt\")\n",
    "\n",
    "    \n",
    "    current_lr = optimizer.param_groups[0]['lr']\n",
    "\n",
    "    print(f\"Epoch {epoch:02d} | LR:{current_lr:.6f} | \"\n",
    "          f\"Train Loss:{tr_loss:.4f}/ Acc:{tr_acc:.3f} | \"\n",
    "          f\"Val Loss:{te_loss:.4f}/ Acc:{te_acc:.3f}\")\n"
   ]
  },
  {
   "cell_type": "code",
   "execution_count": null,
   "id": "a9dc4f3b",
   "metadata": {},
   "outputs": [
    {
     "name": "stdout",
     "output_type": "stream",
     "text": [
      "Pred: 0 (idx=0) | 0: 0.887, 4: 0.113\n"
     ]
    },
    {
     "data": {
      "image/png": "[encoded data removed]",
      "text/plain": [
       "<Figure size 640x480 with 1 Axes>"
      ]
     },
     "metadata": {},
     "output_type": "display_data"
    }
   ],
   "source": [
    "img_path = \"/Users/dylancanning/Desktop/UIB/AprenentatgeAutomatic/aa_2526/04_Imatges/export/test/0/000006.png\"\n",
    "model.eval()\n",
    "img = Image.open(img_path).convert('RGB')\n",
    "x = test_tf(img).unsqueeze(0).to(device)      \n",
    "\n",
    "with torch.no_grad():\n",
    "    logits = model(x)                           \n",
    "    probs = torch.softmax(logits, dim=1).squeeze(0).cpu()\n",
    "\n",
    "pred_idx = int(torch.argmax(probs))\n",
    "pred_name = train_ds.classes[pred_idx]\n",
    "prob_str = \", \".join(f\"{train_ds.classes[i]}: {probs[i]:.3f}\" for i in range(len(train_ds.classes)))\n",
    "print(f\"Pred: {pred_name} (idx={pred_idx}) | {prob_str}\")\n",
    "\n",
    "if True:\n",
    "    import matplotlib.pyplot as plt\n",
    "    plt.imshow(Image.open(img_path).convert('RGB'))\n",
    "    plt.title(f\"Pred: {pred_name}\")\n",
    "    plt.axis('off'); plt.show()"
   ]
  }
 ],
 "metadata": {
  "kernelspec": {
   "display_name": "base",
   "language": "python",
   "name": "python3"
  },
  "language_info": {
   "codemirror_mode": {
    "name": "ipython",
    "version": 3
   },
   "file_extension": ".py",
   "mimetype": "text/x-python",
   "name": "python",
   "nbconvert_exporter": "python",
   "pygments_lexer": "ipython3",
   "version": "3.13.5"
  }
 },
 "nbformat": 4,
 "nbformat_minor": 5
}
