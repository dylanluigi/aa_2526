{
 "cells": [
  {
   "metadata": {},
   "cell_type": "markdown",
   "source": [
    "# Aprenentatge profund per a imatges\n",
    "\n",
    "A les lliçons anteriors, hem treballat extensament amb **dades tabulars**. Aquests conjunts de dades són generalment fàcils de representar i analitzar utilitzant eines com `pandas`, `scikit-learn` i diversos models estadístics.\n",
    "\n",
    "Tanmateix, les **imatges** són fonamentalment diferents tant en estructura com en contingut. En lloc de files i columnes amb característiques etiquetades explícitament, una imatge és una graella de valors de píxels, normalment en 2D per a escala de grisos o en 3D per a color (alçada × amplada × canals). Per exemple, una imatge en color de mida 224×224 píxels amb 3 canals de color (RGB) conté més de 150.000 valors en brut, cap dels quals no està etiquetat amb característiques interpretables per humans com “edat” o “ingrés”.\n",
    "\n",
    "Aquesta diferència condueix a diversos reptes importants:\n",
    "\n",
    "- **Alta dimensionalitat**: Les imatges contenen moltes més característiques (píxels) que els conjunts de dades tabulars típics, cosa que augmenta la complexitat computacional i el risc de *overfitting*.\n",
    "- **Estructura espacial**: Els píxels propers en una imatge sovint estan relacionats, formant vores, textures i patrons. Els models tabulars generalment no capten aquestes dependències locals.\n",
    "- **Bretxa semàntica**: La relació entre els píxels en brut i els conceptes significatius (com un moic, una cara o un senyal de trànsit) és complexa i no lineal, i requereix models sofisticats per salvar aquesta bretxa.\n",
    "\n",
    "\n",
    "En aquest mòdul explorarem com treballar amb dades d’imatges Per fer-ho, tornarem a utilitzar `PyTorch`.\n",
    "\n",
    "## *Batches*\n",
    "\n",
    "Quan entrenem models d’aprenentatge profund amb imatges, no alimentem tot el conjunt de dades alhora, com fèiem amb les dades tabulars. En lloc d’això, agrupem múltiples imatges en *batches*.\n",
    "\n",
    "Un *batch* és una col·lecció de mostres (p. ex. imatges i les seves etiquetes) processades juntes en una sola passada endavant i enrere. Com a resultat les dades d'imatge són representades com un tensor de 4 dimensions:\n",
    "\n",
    "```(batch_size, channels, height, width)\n",
    "```\n",
    "\n",
    "## El conjunt de dades MNIST\n",
    "\n",
    "Per començar a treballar amb dades d’imatges en la pràctica, utilitzarem un dels conjunts de dades de referència més coneguts: **MNIST**. **MNIST** significa *Modified National Institute of Standards and Technology*. Consta de **70.000 imatges en escala de grisos** de xifres manuscrites (del 0 al 9), dividides en:\n",
    "\n",
    "- **60.000 imatges d’entrenament**\n",
    "- **10.000 imatges de prova**\n",
    "\n",
    "Cada imatge és:\n",
    "\n",
    "- **28 × 28 píxels**\n",
    "- **En escala de grisos** (és a dir, un sol canal)\n",
    "- **Etiquetada** amb la xifra correcta (0–9)\n",
    "\n",
    "El conjunt de dades MNIST ha estat àmpliament utilitzat com a banc de proves per a algorismes d’aprenentatge automàtic i aprenentatge profund. Aquest conjunt de dades és ideal per aprendre perquè és petit, net i ja preprocesat, però alhora ofereix una complexitat realista en les xifres manuscrites.\n",
    "\n",
    "### Exemple d’imatges MNIST\n",
    "\n",
    "A continuació es mostra una mostra de xifres MNIST:\n",
    "\n",
    "![MNIST Examples](https://upload.wikimedia.org/wikipedia/commons/2/27/MnistExamples.png)\n",
    "\n",
    "Cada fila a la imatge anterior mostra les xifres del 0 al 9 escrites per persones diferents. Com pots veure, algunes xifres s’escriuen de maneres molt diferents, i és per això que necessitem l’aprenentatge automàtic per reconèixer-les automàticament."
   ],
   "id": "836011f370280568"
  },
  {
   "metadata": {
    "ExecuteTime": {
     "end_time": "2025-10-08T08:50:21.053017Z",
     "start_time": "2025-10-08T08:50:21.050897Z"
    }
   },
   "cell_type": "code",
   "source": [
    "from sklearn.metrics import accuracy_score\n",
    "\n",
    "import torch\n",
    "import torch.nn as nn\n",
    "\n",
    "from torchvision import datasets, transforms\n",
    "from torch.utils.data import DataLoader\n",
    "\n",
    "from tqdm import tqdm"
   ],
   "id": "f938c9d912b0d9b6",
   "outputs": [],
   "execution_count": 26
  },
  {
   "metadata": {},
   "cell_type": "markdown",
   "source": [
    "## Carrega de dades\n",
    "\n",
    "El processament de dades, com ja hem vist, és una part fonamental de qualsevol projecte d'aprenentatge profund. Per treballar amb dades de manera eficient, PyTorch ofereix dues classes: ``Dataset`` i ``DataLoader``.\n",
    "\n",
    "El ``Dataset`` és una classe que representa un conjunt de dades. Serveix per carregar, transformar i accedir als elements individuals del conjunt. PyTorch inclou diversos datasets predefinits com MNIST, CIFAR-10 o ImageNet, però també podem crear els nostres propis datasets personalitzats heretant de torch.utils.data.Dataset i implementant els mètodes __len__() i __getitem__().\n",
    "\n",
    "Un cop tenim el dataset, el ``DataLoader`` s’encarrega de gestionar la manera com aquestes dades s’entreguen al model. Permet dividir les dades en **batches**, barrejar-les (shuffle) i carregar-les en paral·lel utilitzant múltiples fils (*workers*)."
   ],
   "id": "73205d6e94fde810"
  },
  {
   "metadata": {
    "ExecuteTime": {
     "end_time": "2025-10-08T08:50:23.792250Z",
     "start_time": "2025-10-08T08:50:23.760262Z"
    }
   },
   "cell_type": "code",
   "source": [
    "BATCH_SIZE = 64\n",
    "transform = transforms.Compose([\n",
    "    transforms.ToTensor(),\n",
    "])\n",
    "\n",
    "dataset_train = datasets.MNIST(root='data', train=True, download=True, transform=transform)\n",
    "dataloader_train = DataLoader(dataset_train, batch_size=BATCH_SIZE)\n",
    "\n",
    "dataset_val = datasets.MNIST(root='data', train=False, download=True, transform=transform)\n",
    "dataloader_val = DataLoader(dataset_val, batch_size=BATCH_SIZE)"
   ],
   "id": "9f1e9c193199ef4b",
   "outputs": [],
   "execution_count": 27
  },
  {
   "metadata": {
    "ExecuteTime": {
     "end_time": "2025-10-08T08:50:27.810853Z",
     "start_time": "2025-10-08T08:50:27.807426Z"
    }
   },
   "cell_type": "code",
   "source": [
    "for img, gt in dataset_train:\n",
    "\tprint(img.shape)\n",
    "\tprint(gt)\n",
    "\tbreak"
   ],
   "id": "53db4a8a72fa186c",
   "outputs": [
    {
     "name": "stdout",
     "output_type": "stream",
     "text": [
      "torch.Size([1, 28, 28])\n",
      "5\n"
     ]
    }
   ],
   "execution_count": 28
  },
  {
   "metadata": {
    "ExecuteTime": {
     "end_time": "2025-10-08T08:51:03.007582Z",
     "start_time": "2025-10-08T08:51:03.001261Z"
    }
   },
   "cell_type": "code",
   "source": [
    "for batch, gt in dataloader_train:\n",
    "\tprint(batch.shape)\n",
    "\tprint(gt.shape)\n",
    "\tbreak"
   ],
   "id": "973459a1d81507dc",
   "outputs": [
    {
     "name": "stdout",
     "output_type": "stream",
     "text": [
      "torch.Size([64, 1, 28, 28])\n",
      "torch.Size([64])\n"
     ]
    }
   ],
   "execution_count": 29
  },
  {
   "metadata": {},
   "cell_type": "markdown",
   "source": [
    "`nn.Sequential`` és una manera senzilla de construir una xarxa neuronal apilant les capes en ordre.\n",
    "\n",
    "És útil quan el teu model és una cadena lineal de capes, sense ramificacions ni lògica personalitzada."
   ],
   "id": "f6751c5d3079d7df"
  },
  {
   "metadata": {
    "ExecuteTime": {
     "end_time": "2025-10-08T08:05:11.993166Z",
     "start_time": "2025-10-08T08:05:11.989294Z"
    }
   },
   "cell_type": "code",
   "source": [
    "mlp_net = nn.Sequential(\n",
    "    torch.nn.Linear(784, 10),\n",
    "    nn.ReLU(),\n",
    "    torch.nn.Linear(10, 10),\n",
    "    torch.nn.Dropout(0.2),\n",
    "    nn.ReLU(),\n",
    "    torch.nn.Linear(10, 10)\n",
    ")"
   ],
   "id": "8336cc39da8f39e7",
   "outputs": [],
   "execution_count": 5
  },
  {
   "metadata": {},
   "cell_type": "markdown",
   "source": "### Entrenament",
   "id": "b19b1715c1af2d0a"
  },
  {
   "metadata": {
    "ExecuteTime": {
     "end_time": "2025-10-08T08:54:52.285287Z",
     "start_time": "2025-10-08T08:54:52.281147Z"
    }
   },
   "cell_type": "code",
   "source": [
    "EPOCHS = 5\n",
    "loss_fn = nn.CrossEntropyLoss()\n",
    "LR = 1e-3\n",
    "optimizer = torch.optim.Adam(mlp_net.parameters(), lr=LR)"
   ],
   "id": "649560387e03ee96",
   "outputs": [],
   "execution_count": 30
  },
  {
   "metadata": {
    "ExecuteTime": {
     "end_time": "2025-10-08T08:55:08.233170Z",
     "start_time": "2025-10-08T08:55:02.033608Z"
    }
   },
   "cell_type": "code",
   "source": [
    "running_loss = []\n",
    "running_acc = []\n",
    "\n",
    "running_test_loss = []\n",
    "running_test_acc = []\n",
    "\n",
    "for t in tqdm(range(EPOCHS), desc=\"Epochs\"):\n",
    "    batch_loss = 0\n",
    "    batch_acc = 0\n",
    "\n",
    "    i_batch = 0\n",
    "    for i_batch, (x, y) in enumerate(dataloader_train):  # We have to iter the batches.\n",
    "        mlp_net.train()\n",
    "        x = x.reshape(x.shape[0], -1)  # Flatten images\n",
    "\n",
    "        optimizer.zero_grad()\n",
    "        y_pred = mlp_net(x)\n",
    "\n",
    "        # 1. LOSS CALCULATION\n",
    "        loss = loss_fn(y_pred, y)\n",
    "\n",
    "        # 2. GRADIENT\n",
    "        mlp_net.zero_grad()\n",
    "        loss.backward()\n",
    "\n",
    "        # 3. OPTIMISATION\n",
    "        with torch.no_grad():\n",
    "            optimizer.step()\n",
    "\n",
    "        # 4. EVALUATION\n",
    "        mlp_net.eval()  # Mode avaluació de la xarxa\n",
    "\n",
    "        y_pred = mlp_net(x)\n",
    "        y_pred_binary = torch.argmax(y_pred, 1).double()\n",
    "\n",
    "        batch_loss += (loss_fn(y_pred, y).detach())\n",
    "        batch_acc += accuracy_score(y_pred_binary.detach(), y.detach())\n",
    "\n",
    "    running_loss.append(batch_loss / (i_batch + 1))\n",
    "    running_acc.append(batch_acc / (i_batch + 1))"
   ],
   "id": "3d18c723b9f345c0",
   "outputs": [
    {
     "name": "stderr",
     "output_type": "stream",
     "text": [
      "Epochs: 100%|██████████| 5/5 [00:06<00:00,  1.24s/it]\n"
     ]
    }
   ],
   "execution_count": 31
  },
  {
   "metadata": {},
   "cell_type": "markdown",
   "source": [
    "## Tasca a fer\n",
    "\n",
    "1. Seleccionar la funció de pèrdua a emprar per poder entrenar el model.\n",
    "2. Afegir la validació al bucle del `MNIST` i contestar a la pregunta de si hi ha *overfitting*?\n",
    "2. Crear dos objectes `DataLoader` pel següent [dataset](https://github.com/miquelmn/aa_2526/releases/download/pr3/p4.tar.gz). Per fer-ho haureu de primer descarregar les imatges de l'enllaç, i després carregar les dades emprant [ImageFolder](https://docs.pytorch.org/vision/main/generated/torchvision.datasets.ImageFolder.html) de `PyTorch`.\n",
    "3. Entrenar un **MLP** amb `PyTorch` per tal d'identificar les classes. Prova primer amb una mida d'imatges més petita (64 per 64 píxels) fins a la mida original."
   ],
   "id": "be00057761220c69"
  },
  {
   "metadata": {},
   "cell_type": "code",
   "outputs": [],
   "execution_count": null,
   "source": "",
   "id": "ede2db9f316e1358"
  }
 ],
 "metadata": {
  "kernelspec": {
   "display_name": "Python 3",
   "language": "python",
   "name": "python3"
  },
  "language_info": {
   "codemirror_mode": {
    "name": "ipython",
    "version": 2
   },
   "file_extension": ".py",
   "mimetype": "text/x-python",
   "name": "python",
   "nbconvert_exporter": "python",
   "pygments_lexer": "ipython2",
   "version": "2.7.6"
  }
 },
 "nbformat": 4,
 "nbformat_minor": 5
}
