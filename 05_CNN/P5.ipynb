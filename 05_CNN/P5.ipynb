{
 "cells": [
  {
   "cell_type": "code",
   "execution_count": 2,
   "metadata": {
    "ExecuteTime": {
     "end_time": "2025-10-14T21:15:48.193785Z",
     "start_time": "2025-10-14T21:15:46.512175Z"
    },
    "id": "FaadnhbpCcsh"
   },
   "outputs": [],
   "source": [
    "import torch\n",
    "import torch.nn as nn\n",
    "\n",
    "from torchvision import datasets, transforms\n",
    "import torch.optim as optim\n",
    "\n",
    "import matplotlib.pyplot as plt\n",
    "from sklearn.metrics import accuracy_score\n",
    "\n",
    "from tqdm.auto import tqdm"
   ]
  },
  {
   "cell_type": "markdown",
   "metadata": {
    "id": "Ly7lrx-gCuLy"
   },
   "source": [
    "# Xarxes convolucionals\n",
    "\n",
    "L'objectiu d'avui és la creació d'una xarxa convolucional que obtengui **com a mínim igual resultat que la xarxa completament connectada implementada la setmana anterior però amb menys paràmetres**. Per poder realitzar comparacions directes emprarem el mateix conjunt de dades.\n",
    "\n",
    "Com objectius secundaris tenim:\n",
    "\n",
    "1. Aprenentatge de noves estratègies per evitar `overfitting`.\n",
    "2. Visualització dels resultats dels filtres convolucionals.\n",
    "\n",
    "Primer de tot, com sempre, les dades:"
   ]
  },
  {
   "cell_type": "code",
   "execution_count": 3,
   "metadata": {
    "ExecuteTime": {
     "end_time": "2025-10-14T21:16:07.322001Z",
     "start_time": "2025-10-14T21:15:57.510433Z"
    },
    "id": "PwSoPhjXCvV9"
   },
   "outputs": [],
   "source": [
    "DOWNLOAD = True\n",
    "BATCH_SIZE = 64\n",
    "EPOCHS = 5\n",
    "\n",
    "transform = transforms.Compose([\n",
    "    transforms.ToTensor(),\n",
    "    transforms.Normalize((0.1307,), (0.3081,)),  # mitjana, desviació típica\n",
    "])\n",
    "\n",
    "train = datasets.MNIST(\"../data\", train=True, download=DOWNLOAD, transform=transform)\n",
    "test = datasets.MNIST(\"../data\", train=False, download=DOWNLOAD, transform=transform)\n",
    "\n",
    "train_loader = torch.utils.data.DataLoader(train, BATCH_SIZE)\n",
    "test_loader = torch.utils.data.DataLoader(test, BATCH_SIZE)"
   ]
  },
  {
   "cell_type": "code",
   "execution_count": 4,
   "metadata": {
    "ExecuteTime": {
     "end_time": "2025-10-14T21:16:09.890098Z",
     "start_time": "2025-10-14T21:16:09.878066Z"
    }
   },
   "outputs": [
    {
     "name": "stdout",
     "output_type": "stream",
     "text": [
      "torch.Size([64, 1, 28, 28])\n"
     ]
    }
   ],
   "source": [
    "img, target = next(iter(train_loader))\n",
    "print(img.shape)"
   ]
  },
  {
   "cell_type": "markdown",
   "metadata": {},
   "source": [
    "## Definició de la xarxa\n",
    "\n",
    "En primer lloc, reutilitzarem la xarxa (MLP) que varem dissenyar la sessió anterior:"
   ]
  },
  {
   "cell_type": "code",
   "execution_count": 5,
   "metadata": {
    "ExecuteTime": {
     "end_time": "2025-10-14T21:16:10.470063Z",
     "start_time": "2025-10-14T21:16:10.467440Z"
    }
   },
   "outputs": [],
   "source": [
    "model_mlp = nn.Sequential(\n",
    "            torch.nn.Linear(784, 10),\n",
    "            nn.ReLU(),\n",
    "            torch.nn.Linear(10, 10),\n",
    "            torch.nn.Dropout(0.2),\n",
    "            nn.ReLU(),\n",
    "            torch.nn.Linear(10, 1)\n",
    "        )"
   ]
  },
  {
   "cell_type": "markdown",
   "metadata": {
    "id": "s8i4Mg8KuD3r"
   },
   "source": [
    "\n",
    "En segon lloc, definirem la nostra primera xarxa convolucional:\n",
    "\n",
    "1. Definir la primera xarxa convolucional. A continuació teniu una llista de les capes que podeu emprar:\n",
    "\n",
    "- `Conv2d`: Capa convolucional en 2 dimensions ([enllaç](https://pytorch.org/docs/stable/generated/torch.nn.Conv2d.html)). Com a paràmetres principals trobarem: ([visualització](https://github.com/vdumoulin/conv_arithmetic/blob/master/README.md))\n",
    "\n",
    "  - in_channels: canals d'entrada.\n",
    "  - out_channels : canals de sortida.\n",
    "  - kernel_size: mida del filtre.\n",
    "  - stride: desplaçament del filtre. Típicament pren per valor 1.\n",
    "  - padding: ampliació de la imatge per evitar pèrdua de dimensionalitat.\n",
    "\n",
    "- `MaxPool2d`: Capa de max pooling ([enllaç](https://pytorch.org/docs/stable/generated/torch.nn.MaxPool2d.html#torch.nn.MaxPool2d)). Aquesta capa no té paràmetres entrenables. Però en té d'altres:\n",
    "\n",
    "  - kernel_size: Mida del filtre del qual es seleccionarà el màxim.\n",
    "  - stride: desplaçament del filtre.\n",
    "\n",
    "- `Dropout`: Dropout és un mètode de regularització (evitar `overfitting`) que aproxima l'entrenament d'un gran nombre de xarxes neuronals amb diferents arquitectures en paral·lel. Durant l'entrenament, una part de les sortides de la capa s'ignoren aleatòriament o s'abandonen. Això té l'efecte de fer que la capa sembli i es tracti com una capa amb un nombre diferent de nodes i connectivitat a la capa anterior. En efecte, cada actualització d'una capa durant l'entrenament es realitza amb una vista diferent de la capa configurada. Hem d'especificar quines capes tenen `dropout` de manera individual. Té un únic paràmetre amb valor per defecte $p=0.5$ Els valors típics d'aquest paràmetre varien entre $0.5$ i $0.8$.\n",
    "\n",
    "- `Linear`\n",
    "\n",
    "- `ReLU`\n"
   ]
  },
  {
   "cell_type": "code",
   "execution_count": 6,
   "metadata": {},
   "outputs": [],
   "source": [
    "model_cnn = nn.Sequential(\n",
    "    nn.Conv2d(in_channels=1, out_channels=16, kernel_size=7, stride=1, padding=0),\n",
    "    nn.ReLU(),\n",
    "    nn.MaxPool2d(kernel_size=2, stride=2),\n",
    "    \n",
    "    nn.Conv2d(in_channels=16, out_channels=32, kernel_size=3),\n",
    "    nn.ReLU(),\n",
    "    nn.MaxPool2d(kernel_size=2, stride=2),\n",
    "    \n",
    "    nn.Flatten(),\n",
    "    nn.Linear(32 * 4 * 4, 64),\n",
    "    nn.ReLU(),\n",
    "    nn.Dropout(0.3),\n",
    "    nn.Linear(64, 10)\n",
    ")\n"
   ]
  },
  {
   "cell_type": "markdown",
   "metadata": {
    "id": "A6ISOL_hCk7g"
   },
   "source": [
    "## Entrenament MLP\n",
    "\n",
    "Aquesta part, per sort, no varia de la setmana anterior:\n",
    "\n",
    "\n"
   ]
  },
  {
   "cell_type": "code",
   "execution_count": 7,
   "metadata": {
    "id": "h9OLtpPzClch"
   },
   "outputs": [],
   "source": [
    "loss_fn = torch.nn.BCEWithLogitsLoss()    \n",
    "learning_rate =  1e-3 # Hiperparàmetre\n",
    "optimizer = optim.Adam(model_mlp.parameters(), lr=learning_rate)"
   ]
  },
  {
   "cell_type": "code",
   "execution_count": 8,
   "metadata": {},
   "outputs": [
    {
     "data": {
      "application/vnd.jupyter.widget-view+json": {
       "model_id": "61b58947971d41c1a4aac578ed4df164",
       "version_major": 2,
       "version_minor": 0
      },
      "text/plain": [
       "Èpoques:   0%|          | 0/5 [00:00<?, ?it/s]"
      ]
     },
     "metadata": {},
     "output_type": "display_data"
    },
    {
     "data": {
      "application/vnd.jupyter.widget-view+json": {
       "model_id": "737a91ed7333493f9e2f21f3147e0bd9",
       "version_major": 2,
       "version_minor": 0
      },
      "text/plain": [
       "Batches (Època 1): 0it [00:00, ?it/s]"
      ]
     },
     "metadata": {},
     "output_type": "display_data"
    },
    {
     "data": {
      "application/vnd.jupyter.widget-view+json": {
       "model_id": "68637d27c7f043518ac9aa0a3dadd60d",
       "version_major": 2,
       "version_minor": 0
      },
      "text/plain": [
       "Batches (Època 2): 0it [00:00, ?it/s]"
      ]
     },
     "metadata": {},
     "output_type": "display_data"
    },
    {
     "data": {
      "application/vnd.jupyter.widget-view+json": {
       "model_id": "bae25dbec2b346a6bc32909be07d7f80",
       "version_major": 2,
       "version_minor": 0
      },
      "text/plain": [
       "Batches (Època 3): 0it [00:00, ?it/s]"
      ]
     },
     "metadata": {},
     "output_type": "display_data"
    },
    {
     "data": {
      "application/vnd.jupyter.widget-view+json": {
       "model_id": "0e6b78b3c6364193973f26a6f273fd9f",
       "version_major": 2,
       "version_minor": 0
      },
      "text/plain": [
       "Batches (Època 4): 0it [00:00, ?it/s]"
      ]
     },
     "metadata": {},
     "output_type": "display_data"
    },
    {
     "data": {
      "application/vnd.jupyter.widget-view+json": {
       "model_id": "b20128a32e8d411789d81bc2b35f7c6b",
       "version_major": 2,
       "version_minor": 0
      },
      "text/plain": [
       "Batches (Època 5): 0it [00:00, ?it/s]"
      ]
     },
     "metadata": {},
     "output_type": "display_data"
    }
   ],
   "source": [
    "running_loss = []\n",
    "running_acc = []\n",
    "\n",
    "running_test_loss = []\n",
    "running_test_acc = []\n",
    "\n",
    "for t in tqdm(range(EPOCHS), desc=\"Èpoques\"):\n",
    "    batch_loss = 0\n",
    "    batch_acc = 0\n",
    "    \n",
    "    # Iteram els batches.\n",
    "    for i_batch, (x, y) in tqdm(enumerate(train_loader), desc=f\"Batches (Època {t + 1})\"): \n",
    "        model_mlp.train() # Posam el model a mode entranament.\n",
    "        \n",
    "        x = x.reshape(x.shape[0], -1) # Aplanam la imatge.\n",
    "        \n",
    "        optimizer.zero_grad()\n",
    "\n",
    "        # 1. PREDICCIÓ\n",
    "        y_pred = model_mlp(x)\n",
    "\n",
    "        # 2. CÀLCUL DE LA PÈRDUA\n",
    "        # Computa la pèrdua: l'error de predicció vs el valor correcte\n",
    "        # Es guarda la pèrdua en un array per futures visualitzacions\n",
    "\n",
    "        y_binary = (y == 5)\n",
    "        y_binary = y_binary.double()\n",
    "        y_binary = y_binary.reshape(-1, 1)\n",
    "\n",
    "        loss = loss_fn(y_pred, y_binary)\n",
    "\n",
    "        #3. GRADIENT\n",
    "        model_mlp.zero_grad()\n",
    "        loss.backward()\n",
    "\n",
    "        # Actualitza els pesos utilitzant l'algorisme d'actualització\n",
    "        #4. OPTIMITZACIÓ\n",
    "        with torch.no_grad():\n",
    "            optimizer.step()\n",
    "    \n",
    "        # 5. AVALUAM EL MODEL\n",
    "        model_mlp.eval() # Mode avaluació de la xarxa\n",
    "        \n",
    "        y_pred = model_mlp(x)\n",
    "        y_pred_binary = (y_pred > 0.5).double()\n",
    "\n",
    "        batch_loss += (loss_fn(y_pred, y_binary).detach())\n",
    "        batch_acc += accuracy_score(y_pred_binary.detach(), y_binary.detach())\n",
    "\n",
    "    running_loss.append(batch_loss / (i_batch + 1))\n",
    "    running_acc.append(batch_acc / (i_batch + 1))\n",
    "\n",
    "    batch_test_loss = 0\n",
    "    batch_test_acc = 0\n",
    "    \n",
    "    for i_batch, (x, y) in enumerate(test_loader): \n",
    "        x = x.reshape(x.shape[0], -1) # Aplanam la imatge.\n",
    "        \n",
    "        y_binary = (y == 5)\n",
    "        y_binary = y_binary.double()\n",
    "        y_binary = y_binary.reshape(-1, 1)\n",
    "\n",
    "        y_pred = model_mlp(x)\n",
    "        y_pred_binary = (y_pred > 0.5).double()\n",
    "\n",
    "        batch_test_loss += (loss_fn(y_pred, y_binary).detach())\n",
    "        acc = accuracy_score(y_pred_binary.detach(), y_binary.detach())\n",
    "        batch_test_acc += acc\n",
    "        \n",
    "\n",
    "    running_test_loss.append(batch_test_loss / (i_batch + 1))\n",
    "    running_test_acc.append(batch_test_acc / (i_batch + 1))"
   ]
  },
  {
   "cell_type": "code",
   "execution_count": 9,
   "metadata": {},
   "outputs": [
    {
     "data": {
      "image/png": "[encoded data removed]",
      "text/plain": [
       "<Figure size 640x480 with 2 Axes>"
      ]
     },
     "metadata": {},
     "output_type": "display_data"
    }
   ],
   "source": [
    "plt.subplot(1,2,1)\n",
    "plt.title(\"BCE per iteració\")\n",
    "plt.plot(running_loss, label=\"train\")\n",
    "plt.plot(running_test_loss, label=\"test\")\n",
    "plt.legend()\n",
    "\n",
    "plt.subplot(1,2,2)\n",
    "plt.title(\"Accuracy per iteració\")\n",
    "plt.plot(running_acc, label=\"train\")\n",
    "plt.plot(running_test_acc, label=\"test\")\n",
    "plt.legend()\n",
    "plt.show()"
   ]
  },
  {
   "cell_type": "code",
   "execution_count": 10,
   "metadata": {},
   "outputs": [
    {
     "name": "stdout",
     "output_type": "stream",
     "text": [
      "Accuracy de la darrera iteració 0.9890525477707006 amb test\n"
     ]
    }
   ],
   "source": [
    "print(f\"Accuracy de la darrera iteració {running_test_acc[-1]} amb test\")"
   ]
  },
  {
   "cell_type": "markdown",
   "metadata": {
    "collapsed": false,
    "jupyter": {
     "outputs_hidden": false
    }
   },
   "source": [
    "\n",
    "\n",
    "\n",
    "### Nombre de paràmetres entrenables d'una xarxa\n",
    "\n",
    "**Feina a fer:**\n",
    "1. Mostrar el nombre de paràmetres de la xarxa: \n",
    "```\n",
    "pytorch_total_params = sum(p.numel() for p in model.parameters() if p.requires_grad)\n",
    "```"
   ]
  },
  {
   "cell_type": "code",
   "execution_count": 11,
   "metadata": {},
   "outputs": [
    {
     "data": {
      "text/plain": [
       "7971"
      ]
     },
     "execution_count": 11,
     "metadata": {},
     "output_type": "execute_result"
    }
   ],
   "source": [
    "#TODO\n",
    "pytorch_total_params = sum(p.numel() for p in model_mlp.parameters() if p.requires_grad)\n",
    "pytorch_total_params"
   ]
  },
  {
   "cell_type": "markdown",
   "metadata": {},
   "source": [
    "## Entrenament CNN\n",
    "\n",
    "Ara repetirem el mateix que abans, adaptant el codi a la nova arquitectura:"
   ]
  },
  {
   "cell_type": "code",
   "execution_count": 12,
   "metadata": {},
   "outputs": [
    {
     "data": {
      "application/vnd.jupyter.widget-view+json": {
       "model_id": "663c76afd791423ea0e301ec72276e71",
       "version_major": 2,
       "version_minor": 0
      },
      "text/plain": [
       "Èpoques:   0%|          | 0/5 [00:00<?, ?it/s]"
      ]
     },
     "metadata": {},
     "output_type": "display_data"
    },
    {
     "data": {
      "application/vnd.jupyter.widget-view+json": {
       "model_id": "4c680d9f2bfc4788a84cb04333e8d231",
       "version_major": 2,
       "version_minor": 0
      },
      "text/plain": [
       "Batches (Època 1): 0it [00:00, ?it/s]"
      ]
     },
     "metadata": {},
     "output_type": "display_data"
    },
    {
     "name": "stdout",
     "output_type": "stream",
     "text": [
      "Època 1: Train acc = 0.9162, Test acc = 0.9765\n"
     ]
    },
    {
     "data": {
      "application/vnd.jupyter.widget-view+json": {
       "model_id": "956c4f222f6749ec8574da045538feea",
       "version_major": 2,
       "version_minor": 0
      },
      "text/plain": [
       "Batches (Època 2): 0it [00:00, ?it/s]"
      ]
     },
     "metadata": {},
     "output_type": "display_data"
    },
    {
     "name": "stdout",
     "output_type": "stream",
     "text": [
      "Època 2: Train acc = 0.9712, Test acc = 0.9829\n"
     ]
    },
    {
     "data": {
      "application/vnd.jupyter.widget-view+json": {
       "model_id": "d02904eee811475dae489058ab4d7bd3",
       "version_major": 2,
       "version_minor": 0
      },
      "text/plain": [
       "Batches (Època 3): 0it [00:00, ?it/s]"
      ]
     },
     "metadata": {},
     "output_type": "display_data"
    },
    {
     "name": "stdout",
     "output_type": "stream",
     "text": [
      "Època 3: Train acc = 0.9789, Test acc = 0.9862\n"
     ]
    },
    {
     "data": {
      "application/vnd.jupyter.widget-view+json": {
       "model_id": "13061d313c264565ae39ef314a139304",
       "version_major": 2,
       "version_minor": 0
      },
      "text/plain": [
       "Batches (Època 4): 0it [00:00, ?it/s]"
      ]
     },
     "metadata": {},
     "output_type": "display_data"
    },
    {
     "name": "stdout",
     "output_type": "stream",
     "text": [
      "Època 4: Train acc = 0.9819, Test acc = 0.9875\n"
     ]
    },
    {
     "data": {
      "application/vnd.jupyter.widget-view+json": {
       "model_id": "96a95335486d4db6bb7117a94a89db1f",
       "version_major": 2,
       "version_minor": 0
      },
      "text/plain": [
       "Batches (Època 5): 0it [00:00, ?it/s]"
      ]
     },
     "metadata": {},
     "output_type": "display_data"
    },
    {
     "name": "stdout",
     "output_type": "stream",
     "text": [
      "Època 5: Train acc = 0.9846, Test acc = 0.9901\n"
     ]
    }
   ],
   "source": [
    "loss_fn = torch.nn.CrossEntropyLoss()\n",
    "learning_rate = 1e-3 \n",
    "optimizer = optim.Adam(model_cnn.parameters(), lr=learning_rate)\n",
    "\n",
    "running_loss = []\n",
    "running_acc = []\n",
    "running_test_loss = []\n",
    "running_test_acc_cnn = []\n",
    "\n",
    "for t in tqdm(range(EPOCHS), desc=\"Èpoques\"):\n",
    "    batch_loss = 0\n",
    "    batch_acc = 0\n",
    "\n",
    "    model_cnn.train()\n",
    "\n",
    "    for i_batch, (x, y) in tqdm(enumerate(train_loader), desc=f\"Batches (Època {t + 1})\"):\n",
    "        optimizer.zero_grad()\n",
    "\n",
    "        \n",
    "        y_pred = model_cnn(x)  # shape: [batch_size, 10]\n",
    "        loss = loss_fn(y_pred, y)\n",
    "\n",
    "        \n",
    "        loss.backward()\n",
    "        optimizer.step()\n",
    "\n",
    "        \n",
    "        preds = y_pred.argmax(dim=1)\n",
    "        acc = (preds == y).float().mean().item()\n",
    "\n",
    "        batch_loss += loss.item()\n",
    "        batch_acc += acc\n",
    "\n",
    "    running_loss.append(batch_loss / (i_batch + 1))\n",
    "    running_acc.append(batch_acc / (i_batch + 1))\n",
    "\n",
    "    \n",
    "    model_cnn.eval()\n",
    "    test_loss, test_acc = 0, 0\n",
    "    with torch.no_grad():\n",
    "        for i_batch, (x, y) in enumerate(test_loader):\n",
    "            y_pred = model_cnn(x)\n",
    "            loss = loss_fn(y_pred, y)\n",
    "            preds = y_pred.argmax(dim=1)\n",
    "            acc = (preds == y).float().mean().item()\n",
    "\n",
    "            test_loss += loss.item()\n",
    "            test_acc += acc\n",
    "\n",
    "    running_test_loss.append(test_loss / (i_batch + 1))\n",
    "    running_test_acc_cnn.append(test_acc / (i_batch + 1))\n",
    "\n",
    "    print(f\"Època {t+1}: Train acc = {running_acc[-1]:.4f}, Test acc = {running_test_acc_cnn[-1]:.4f}\")\n"
   ]
  },
  {
   "cell_type": "code",
   "execution_count": 13,
   "metadata": {},
   "outputs": [
    {
     "data": {
      "image/png": "[encoded data removed]",
      "text/plain": [
       "<Figure size 640x480 with 2 Axes>"
      ]
     },
     "metadata": {},
     "output_type": "display_data"
    }
   ],
   "source": [
    "plt.subplot(1,2,1)\n",
    "plt.title(\"BCE per iteració CNN\")\n",
    "plt.plot(running_loss, label=\"train\")\n",
    "plt.plot(running_test_loss, label=\"test\")\n",
    "plt.legend()\n",
    "\n",
    "plt.subplot(1,2,2)\n",
    "plt.title(\"Accuracy per iteració CNN\")\n",
    "plt.plot(running_acc, label=\"train\")\n",
    "plt.plot(running_test_acc_cnn, label=\"test\")\n",
    "plt.legend()\n",
    "plt.show()"
   ]
  },
  {
   "cell_type": "code",
   "execution_count": 14,
   "metadata": {},
   "outputs": [
    {
     "data": {
      "text/plain": [
       "0.9901472929936306"
      ]
     },
     "execution_count": 14,
     "metadata": {},
     "output_type": "execute_result"
    }
   ],
   "source": [
    "running_test_acc_cnn[-1]"
   ]
  },
  {
   "cell_type": "markdown",
   "metadata": {},
   "source": [
    "Ara mirarem el nombre de paràmetres que té aquesta xarxa:"
   ]
  },
  {
   "cell_type": "code",
   "execution_count": 15,
   "metadata": {},
   "outputs": [
    {
     "data": {
      "text/plain": [
       "38922"
      ]
     },
     "execution_count": 15,
     "metadata": {},
     "output_type": "execute_result"
    }
   ],
   "source": [
    "\n",
    "pytorch_total_params = sum(p.numel() for p in model_cnn.parameters() if p.requires_grad)\n",
    "pytorch_total_params"
   ]
  },
  {
   "cell_type": "markdown",
   "metadata": {
    "id": "wjeMWK8cJkqN"
   },
   "source": [
    "## Resultats\n",
    "\n",
    "Aquí visualitzarem els resultats d'aprenentatge de la xarxa. \n",
    "\n",
    "### Feina a fer:\n",
    "\n",
    "1. Fer una predicció del primer _batch_ del conjunt de _test_.\n",
    "2. Visualitzar una imatge del _batch_ i posar la predicció i el ground truth com a títol.\n",
    "3. Empra una _CNN_ per resoldre el problema dels ocells que vàrem veure la setmana passada.\n",
    "\n"
   ]
  },
  {
   "cell_type": "code",
   "execution_count": 16,
   "metadata": {},
   "outputs": [
    {
     "name": "stdout",
     "output_type": "stream",
     "text": [
      "Predictions (logits): [[-1.02000551e+01 -3.41470337e+00 -7.46095061e-01 -1.76865435e+00\n",
      "  -6.51038027e+00 -6.13815212e+00 -1.97601376e+01  1.40415096e+01\n",
      "  -2.77506423e+00 -1.22896516e+00]\n",
      " [-9.55170929e-01  2.00248912e-01  1.57489500e+01 -9.62098885e+00\n",
      "  -1.41476088e+01 -1.45666933e+01 -1.13850098e+01 -9.61765766e+00\n",
      "  -7.49412107e+00 -1.15310755e+01]\n",
      " [-1.02638216e+01  1.16441212e+01 -4.94947624e+00 -1.03441315e+01\n",
      "  -3.67661953e+00 -9.09094048e+00 -7.81691408e+00 -1.60034859e+00\n",
      "  -5.21087551e+00 -5.75523281e+00]\n",
      " [ 1.66571026e+01 -1.03270664e+01 -5.05879545e+00 -1.22374792e+01\n",
      "  -7.95149612e+00 -5.76651096e+00 -2.60413140e-01 -7.10196352e+00\n",
      "  -4.77828074e+00 -2.62318635e+00]\n",
      " [-8.29376984e+00 -3.53612256e+00 -4.93441105e+00 -1.10601864e+01\n",
      "   1.70136795e+01 -1.08842211e+01 -1.60379715e+01 -4.48137951e+00\n",
      "  -7.49633837e+00  5.54637575e+00]\n",
      " [-1.14644117e+01  1.35676174e+01 -5.75943327e+00 -1.27390413e+01\n",
      "  -3.91311932e+00 -1.19604540e+01 -1.00698776e+01 -1.42589617e+00\n",
      "  -5.60760784e+00 -6.06570148e+00]\n",
      " [-1.36891079e+01 -2.85106063e+00 -8.94291496e+00 -1.02572803e+01\n",
      "   1.13742590e+01 -5.50742722e+00 -1.12065067e+01 -6.37186050e-01\n",
      "   2.71618938e+00  2.15499425e+00]\n",
      " [-3.75844193e+00 -5.42065287e+00 -4.24302959e+00 -2.81295443e+00\n",
      "   3.53950167e+00 -1.98162496e+00 -1.15278521e+01 -4.19090223e+00\n",
      "   1.55221462e-01  9.11109257e+00]\n",
      " [-5.55389214e+00 -5.97212315e+00 -1.07145615e+01 -4.77718210e+00\n",
      "  -1.92917991e+00  1.10750532e+01  3.07246757e+00 -1.20546207e+01\n",
      "   2.62473989e+00  5.18819273e-01]\n",
      " [-8.73517704e+00 -9.38844395e+00 -9.39748859e+00 -4.72899723e+00\n",
      "   2.13279915e+00 -6.96784163e+00 -2.25324707e+01  3.49380231e+00\n",
      "  -2.09747410e+00  1.45790367e+01]\n",
      " [ 1.72384472e+01 -9.49263382e+00 -1.65347266e+00 -9.94560242e+00\n",
      "  -1.25519829e+01 -7.49937677e+00 -4.77741814e+00 -6.60716677e+00\n",
      "  -4.23655319e+00 -3.17930484e+00]\n",
      " [ 5.14659643e+00 -3.62637329e+00 -1.35330210e+01 -1.40312147e+01\n",
      "  -1.50909960e+00  3.14968538e+00  1.73365307e+01 -1.87571888e+01\n",
      "  -1.38504982e+00 -7.26592875e+00]\n",
      " [-8.33822632e+00 -1.07031374e+01 -1.15493336e+01 -4.86856985e+00\n",
      "   3.02194309e+00 -4.84632063e+00 -2.33266430e+01  2.36598229e+00\n",
      "  -3.11019230e+00  1.66269703e+01]\n",
      " [ 1.55074978e+01 -1.23506317e+01 -5.26076508e+00 -1.00578547e+01\n",
      "  -8.73260117e+00 -4.04952765e+00 -4.54340410e+00 -4.46406698e+00\n",
      "  -3.65845942e+00  3.05845946e-01]\n",
      " [-1.02642136e+01  1.41203976e+01 -7.81399012e+00 -8.25693512e+00\n",
      "  -4.57917929e+00 -7.31932878e+00 -9.11828613e+00 -5.53749752e+00\n",
      "  -4.88147449e+00 -5.54584408e+00]\n",
      " [-5.36224031e+00 -1.39206386e+00 -7.35821533e+00  5.62324524e+00\n",
      "  -1.09435396e+01  1.36078520e+01 -3.31570268e+00 -8.24838066e+00\n",
      "  -1.89795208e+00 -1.28568363e+00]\n",
      " [-4.82979536e+00 -1.24182863e+01 -7.40739107e+00 -5.40871286e+00\n",
      "   1.60347152e+00 -6.98675394e+00 -2.25027103e+01  2.29127598e+00\n",
      "  -1.72916746e+00  1.61068783e+01]\n",
      " [-4.24500608e+00 -5.02059078e+00  1.44324708e+00  2.05071390e-01\n",
      "  -6.93766069e+00 -6.39385128e+00 -1.75894127e+01  1.20096102e+01\n",
      "  -3.27435994e+00  5.40818334e-01]\n",
      " [-1.63142061e+00 -1.26520240e+00 -5.23249805e-01  6.49680471e+00\n",
      "  -5.42825937e+00  3.61131144e+00 -2.42496896e+00 -1.10056744e+01\n",
      "   2.76686025e+00 -1.72239447e+00]\n",
      " [-1.23301134e+01 -2.47044206e+00 -6.50591660e+00 -7.77797794e+00\n",
      "   1.66096172e+01 -8.13712025e+00 -1.30071573e+01 -1.96948004e+00\n",
      "  -6.76421642e+00  4.74081039e-01]\n",
      " [-4.99094963e+00 -5.83362007e+00 -7.06035614e+00 -4.02005816e+00\n",
      "   2.62022352e+00 -5.44878674e+00 -1.69478283e+01  4.30420256e+00\n",
      "  -3.52321076e+00  9.83233738e+00]\n",
      " [-5.34064323e-02 -6.91640949e+00 -1.26013947e+01 -1.10154486e+01\n",
      "  -2.95938587e+00  8.33274841e+00  1.47034082e+01 -1.60864029e+01\n",
      "   1.78768918e-01 -3.58134341e+00]\n",
      " [ 2.53279805e+00 -4.92950916e+00 -1.38744640e+01 -1.69960346e+01\n",
      "   2.95429468e+00  2.47335243e+00  1.50648394e+01 -1.37030106e+01\n",
      "  -3.29362535e+00 -7.31832218e+00]\n",
      " [-7.64182949e+00 -9.74827671e+00 -1.47509003e+01  2.22499943e+00\n",
      "  -7.48082829e+00  1.77895126e+01 -3.85023189e+00 -1.05989542e+01\n",
      "  -2.49234080e+00  3.22722483e+00]\n",
      " [-8.01262093e+00 -3.29164863e-01 -3.47812510e+00 -6.25699377e+00\n",
      "   1.10301371e+01 -7.34052467e+00 -9.06847095e+00 -1.13875210e+00\n",
      "  -4.60401297e+00 -5.31888604e-02]\n",
      " [ 1.32907248e+01 -9.73522282e+00 -7.24616349e-01 -1.06627340e+01\n",
      "  -5.11237192e+00 -6.03908253e+00 -1.50182283e+00 -7.68690109e+00\n",
      "  -1.00042081e+00 -2.77326751e+00]\n",
      " [-4.66201210e+00 -3.61597037e+00  1.04375318e-01 -6.68835104e-01\n",
      "  -3.33133125e+00 -4.83483219e+00 -1.45828772e+01  9.75234699e+00\n",
      "  -4.45061731e+00  2.15121102e+00]\n",
      " [-1.43356714e+01 -4.25607204e+00 -8.64058113e+00 -1.10064640e+01\n",
      "   2.12646828e+01 -1.00663319e+01 -1.85402107e+01 -4.30641127e+00\n",
      "  -7.45417643e+00  2.94805312e+00]\n",
      " [ 1.45640345e+01 -1.01294184e+01 -9.70675766e-01 -6.27328396e+00\n",
      "  -1.16621819e+01 -5.50342798e+00 -5.21108246e+00 -8.64332771e+00\n",
      "  -1.68562484e+00 -4.10959053e+00]\n",
      " [-8.48226261e+00  9.67053604e+00 -3.74527240e+00 -5.94208050e+00\n",
      "  -1.81345069e+00 -6.80770540e+00 -8.15696907e+00 -3.93619418e+00\n",
      "  -3.04613757e+00 -3.49684477e+00]\n",
      " [-1.05500669e+01 -1.55431676e+00 -2.41759086e+00  1.93275928e+01\n",
      "  -1.24135981e+01  2.08838964e+00 -1.58098421e+01 -5.83365822e+00\n",
      "   4.77849633e-01 -5.34688473e-01]\n",
      " [-6.19793034e+00  8.64608765e+00 -4.18982172e+00 -5.71064568e+00\n",
      "  -1.51115584e+00 -6.02208662e+00 -7.43200636e+00 -3.88501048e+00\n",
      "  -2.56591225e+00 -2.53132939e+00]\n",
      " [-1.21370659e+01  1.20436537e+00 -2.81698918e+00  1.89200687e+01\n",
      "  -1.07871256e+01  3.96065378e+00 -1.13440704e+01 -9.25097370e+00\n",
      "   1.01897764e+00 -3.89665627e+00]\n",
      " [ 3.77877712e+00 -3.95029330e+00  3.12271309e+00 -1.23914814e+01\n",
      "   1.28160601e+01 -7.47066689e+00 -3.03068852e+00 -1.36707411e+01\n",
      "  -1.10203495e+01 -1.81373668e+00]\n",
      " [-1.18549814e+01 -2.89247155e+00  5.06363750e-01 -4.49358821e-01\n",
      "  -5.82864475e+00 -8.36823654e+00 -2.13629704e+01  1.35857592e+01\n",
      "  -1.91451335e+00 -5.60379744e-01]\n",
      " [-6.31279659e+00  5.90441561e+00  1.52342005e+01 -7.18353415e+00\n",
      "  -1.33925591e+01 -1.76225929e+01 -1.53593378e+01 -5.16350448e-01\n",
      "  -9.60567093e+00 -7.67589474e+00]\n",
      " [-8.77662182e+00  1.48154259e-01  5.71082211e+00  1.84896922e+00\n",
      "  -4.69448233e+00 -1.16460562e+01 -1.49359636e+01  9.32703972e+00\n",
      "  -6.59159184e-01 -3.45806336e+00]\n",
      " [-9.54528522e+00  1.17232666e+01 -5.41197634e+00 -9.37360859e+00\n",
      "  -2.82525444e+00 -9.29810047e+00 -1.01473866e+01 -2.87320399e+00\n",
      "  -3.55129409e+00 -3.68819213e+00]\n",
      " [ 4.56100404e-02  7.09684610e-01  1.04573860e+01 -5.37208414e+00\n",
      "  -9.24456692e+00 -1.09715929e+01 -7.48539066e+00 -3.84650254e+00\n",
      "  -5.42665148e+00 -7.71031570e+00]\n",
      " [-8.17080975e+00  1.11672573e+01 -5.33733082e+00 -9.82211208e+00\n",
      "  -3.43396902e+00 -9.75859261e+00 -8.61212540e+00 -2.88173366e+00\n",
      "  -2.87628198e+00 -3.31478906e+00]\n",
      " [-6.05943298e+00  7.97308874e+00 -3.09871292e+00 -5.35894489e+00\n",
      "  -3.06315947e+00 -5.39917231e+00 -5.53794622e+00 -2.38254380e+00\n",
      "  -3.04549551e+00 -3.09982681e+00]\n",
      " [-1.07364855e+01  1.08837748e+00  4.86711168e+00  1.33129823e+00\n",
      "  -1.47268641e+00 -9.98257160e+00 -1.30471020e+01  9.24012852e+00\n",
      "  -2.12314892e+00 -4.25360012e+00]\n",
      " [-1.38328896e+01 -1.02453887e+00 -8.85238647e+00 -1.03750706e+01\n",
      "   1.61974335e+01 -1.00980778e+01 -1.45273457e+01 -1.87568533e+00\n",
      "  -5.67653847e+00  1.14501655e+00]\n",
      " [-6.94419622e+00  2.22294354e+00  1.03353987e+01 -7.02671814e+00\n",
      "   2.50153637e+00 -1.02232409e+01 -2.86418438e+00 -2.65757561e+00\n",
      "  -7.60007763e+00 -7.05176926e+00]\n",
      " [-8.05512905e+00  3.33928168e-01 -1.18809927e+00  1.41900272e+01\n",
      "  -7.42196941e+00  1.49029291e+00 -1.06368666e+01 -5.12186623e+00\n",
      "  -6.27430499e-01 -1.85093367e+00]\n",
      " [-1.81097806e+00 -5.25678635e+00 -1.08589926e+01 -2.12909651e+00\n",
      "  -1.04713173e+01  1.26194735e+01  9.28199530e-01 -9.87632751e+00\n",
      "  -2.08504766e-01  1.08341599e+00]\n",
      " [-7.75764799e+00  9.80364323e+00 -3.55431199e+00 -6.01068687e+00\n",
      "  -9.88239467e-01 -7.48248005e+00 -7.38608789e+00 -5.40393734e+00\n",
      "  -3.23438478e+00 -4.16544437e+00]\n",
      " [-4.74548244e+00 -3.14938378e+00  1.57309294e+01 -2.56062269e+00\n",
      "  -6.75982666e+00 -8.56135273e+00 -6.66477871e+00 -6.15289211e+00\n",
      "  -2.18311310e+00 -1.07656612e+01]\n",
      " [-1.23791447e+01 -4.42062616e+00 -8.90211105e+00 -1.07795658e+01\n",
      "   1.74414883e+01 -8.97707462e+00 -1.76339016e+01 -2.67873263e+00\n",
      "  -6.18682861e+00  5.91298866e+00]\n",
      " [-8.59661102e+00 -5.39813471e+00 -5.19265032e+00 -9.11010647e+00\n",
      "   1.69277306e+01 -7.39452219e+00 -1.33425407e+01 -3.27177072e+00\n",
      "  -7.35019588e+00  1.81707251e+00]\n",
      " [ 5.13626671e+00 -5.31173372e+00 -1.17048750e+01 -1.37359123e+01\n",
      "  -1.55758488e+00  4.43500566e+00  1.50617561e+01 -1.48125353e+01\n",
      "  -4.00408888e+00 -4.35857534e+00]\n",
      " [-1.07530231e+01 -5.47748685e-01 -2.68664932e+00  1.88045998e+01\n",
      "  -1.35824051e+01  2.32880831e+00 -1.28338203e+01 -8.82158184e+00\n",
      "   1.84848118e+00 -4.43307543e+00]\n",
      " [-6.67153025e+00 -9.48783302e+00 -1.46315136e+01  3.37521315e+00\n",
      "  -5.18117762e+00  1.63751354e+01 -6.48404503e+00 -1.11370668e+01\n",
      "   3.80457759e-01  6.47163820e+00]\n",
      " [-5.92137098e+00 -6.19231033e+00 -1.07854204e+01  2.65364796e-01\n",
      "  -5.48969603e+00  1.19127369e+01 -2.25582957e+00 -6.56129694e+00\n",
      "   6.26686215e-01  2.78524566e+00]\n",
      " [ 1.18284321e+00 -4.78287745e+00 -1.52058315e+01 -1.66422501e+01\n",
      "   1.91596150e-02  5.40113735e+00  2.09642105e+01 -2.25547256e+01\n",
      "   4.61403579e-02 -9.19673920e+00]\n",
      " [ 1.19778862e+01 -5.28210497e+00 -2.49558163e+00 -8.06198025e+00\n",
      "  -9.78193760e+00 -3.61579466e+00 -2.34869266e+00 -4.39903450e+00\n",
      "  -2.82743120e+00 -2.97114992e+00]\n",
      " [-1.57621746e+01 -3.31107688e+00 -7.95338583e+00 -1.17144871e+01\n",
      "   2.23197422e+01 -1.21031895e+01 -1.79799023e+01 -3.23546886e+00\n",
      "  -8.44956684e+00  1.99725851e-01]\n",
      " [-1.01002893e+01  1.10891190e+01 -3.56700540e+00 -9.29559898e+00\n",
      "  -2.41146088e+00 -1.09673605e+01 -8.78234768e+00 -1.00066257e+00\n",
      "  -4.41872597e+00 -4.88505745e+00]\n",
      " [-7.45490456e+00 -1.08857574e+01 -1.20545683e+01 -4.27225876e+00\n",
      "   2.81383467e+00 -5.41349173e+00 -2.61114388e+01  2.42370296e+00\n",
      "  -5.45901537e+00  1.88160305e+01]\n",
      " [-8.20136070e+00 -5.78000498e+00 -1.13689375e+01 -1.28652036e-01\n",
      "  -3.39028358e+00  1.07357998e+01 -5.30600119e+00 -2.07858562e+00\n",
      "   9.06327248e-01  1.67347419e+00]\n",
      " [-6.99719763e+00 -3.22811556e+00  2.69041240e-01  1.53797293e+00\n",
      "  -3.26014757e+00 -3.97484517e+00 -1.67103519e+01  1.09961481e+01\n",
      "  -3.63112092e+00  1.10427177e+00]\n",
      " [-5.35903549e+00 -9.27622414e+00  1.90574706e-01 -2.07542944e+00\n",
      "  -1.32638721e+01 -2.45802116e+00 -9.06742191e+00 -1.48292551e+01\n",
      "   1.62104111e+01  1.88900340e+00]\n",
      " [-5.00275660e+00 -8.40127182e+00 -1.10965052e+01 -4.80737591e+00\n",
      "  -1.26954567e+00  6.49037552e+00 -6.94691658e+00 -2.37271714e+00\n",
      "   1.98714733e+00  7.51165676e+00]\n",
      " [-8.18249702e+00 -5.98508000e-01  3.33743548e+00  1.41337452e+01\n",
      "  -9.54787159e+00 -6.91849089e+00 -1.89896584e+01 -1.97951889e+00\n",
      "   2.00741529e+00  4.64234710e-01]]\n",
      "Predictions (binary): [[-1.02000551e+01 -3.41470337e+00 -7.46095061e-01 -1.76865435e+00\n",
      "  -6.51038027e+00 -6.13815212e+00 -1.97601376e+01  1.40415096e+01\n",
      "  -2.77506423e+00 -1.22896516e+00]\n",
      " [-9.55170929e-01  2.00248912e-01  1.57489500e+01 -9.62098885e+00\n",
      "  -1.41476088e+01 -1.45666933e+01 -1.13850098e+01 -9.61765766e+00\n",
      "  -7.49412107e+00 -1.15310755e+01]\n",
      " [-1.02638216e+01  1.16441212e+01 -4.94947624e+00 -1.03441315e+01\n",
      "  -3.67661953e+00 -9.09094048e+00 -7.81691408e+00 -1.60034859e+00\n",
      "  -5.21087551e+00 -5.75523281e+00]\n",
      " [ 1.66571026e+01 -1.03270664e+01 -5.05879545e+00 -1.22374792e+01\n",
      "  -7.95149612e+00 -5.76651096e+00 -2.60413140e-01 -7.10196352e+00\n",
      "  -4.77828074e+00 -2.62318635e+00]\n",
      " [-8.29376984e+00 -3.53612256e+00 -4.93441105e+00 -1.10601864e+01\n",
      "   1.70136795e+01 -1.08842211e+01 -1.60379715e+01 -4.48137951e+00\n",
      "  -7.49633837e+00  5.54637575e+00]\n",
      " [-1.14644117e+01  1.35676174e+01 -5.75943327e+00 -1.27390413e+01\n",
      "  -3.91311932e+00 -1.19604540e+01 -1.00698776e+01 -1.42589617e+00\n",
      "  -5.60760784e+00 -6.06570148e+00]\n",
      " [-1.36891079e+01 -2.85106063e+00 -8.94291496e+00 -1.02572803e+01\n",
      "   1.13742590e+01 -5.50742722e+00 -1.12065067e+01 -6.37186050e-01\n",
      "   2.71618938e+00  2.15499425e+00]\n",
      " [-3.75844193e+00 -5.42065287e+00 -4.24302959e+00 -2.81295443e+00\n",
      "   3.53950167e+00 -1.98162496e+00 -1.15278521e+01 -4.19090223e+00\n",
      "   1.55221462e-01  9.11109257e+00]\n",
      " [-5.55389214e+00 -5.97212315e+00 -1.07145615e+01 -4.77718210e+00\n",
      "  -1.92917991e+00  1.10750532e+01  3.07246757e+00 -1.20546207e+01\n",
      "   2.62473989e+00  5.18819273e-01]\n",
      " [-8.73517704e+00 -9.38844395e+00 -9.39748859e+00 -4.72899723e+00\n",
      "   2.13279915e+00 -6.96784163e+00 -2.25324707e+01  3.49380231e+00\n",
      "  -2.09747410e+00  1.45790367e+01]\n",
      " [ 1.72384472e+01 -9.49263382e+00 -1.65347266e+00 -9.94560242e+00\n",
      "  -1.25519829e+01 -7.49937677e+00 -4.77741814e+00 -6.60716677e+00\n",
      "  -4.23655319e+00 -3.17930484e+00]\n",
      " [ 5.14659643e+00 -3.62637329e+00 -1.35330210e+01 -1.40312147e+01\n",
      "  -1.50909960e+00  3.14968538e+00  1.73365307e+01 -1.87571888e+01\n",
      "  -1.38504982e+00 -7.26592875e+00]\n",
      " [-8.33822632e+00 -1.07031374e+01 -1.15493336e+01 -4.86856985e+00\n",
      "   3.02194309e+00 -4.84632063e+00 -2.33266430e+01  2.36598229e+00\n",
      "  -3.11019230e+00  1.66269703e+01]\n",
      " [ 1.55074978e+01 -1.23506317e+01 -5.26076508e+00 -1.00578547e+01\n",
      "  -8.73260117e+00 -4.04952765e+00 -4.54340410e+00 -4.46406698e+00\n",
      "  -3.65845942e+00  3.05845946e-01]\n",
      " [-1.02642136e+01  1.41203976e+01 -7.81399012e+00 -8.25693512e+00\n",
      "  -4.57917929e+00 -7.31932878e+00 -9.11828613e+00 -5.53749752e+00\n",
      "  -4.88147449e+00 -5.54584408e+00]\n",
      " [-5.36224031e+00 -1.39206386e+00 -7.35821533e+00  5.62324524e+00\n",
      "  -1.09435396e+01  1.36078520e+01 -3.31570268e+00 -8.24838066e+00\n",
      "  -1.89795208e+00 -1.28568363e+00]\n",
      " [-4.82979536e+00 -1.24182863e+01 -7.40739107e+00 -5.40871286e+00\n",
      "   1.60347152e+00 -6.98675394e+00 -2.25027103e+01  2.29127598e+00\n",
      "  -1.72916746e+00  1.61068783e+01]\n",
      " [-4.24500608e+00 -5.02059078e+00  1.44324708e+00  2.05071390e-01\n",
      "  -6.93766069e+00 -6.39385128e+00 -1.75894127e+01  1.20096102e+01\n",
      "  -3.27435994e+00  5.40818334e-01]\n",
      " [-1.63142061e+00 -1.26520240e+00 -5.23249805e-01  6.49680471e+00\n",
      "  -5.42825937e+00  3.61131144e+00 -2.42496896e+00 -1.10056744e+01\n",
      "   2.76686025e+00 -1.72239447e+00]\n",
      " [-1.23301134e+01 -2.47044206e+00 -6.50591660e+00 -7.77797794e+00\n",
      "   1.66096172e+01 -8.13712025e+00 -1.30071573e+01 -1.96948004e+00\n",
      "  -6.76421642e+00  4.74081039e-01]\n",
      " [-4.99094963e+00 -5.83362007e+00 -7.06035614e+00 -4.02005816e+00\n",
      "   2.62022352e+00 -5.44878674e+00 -1.69478283e+01  4.30420256e+00\n",
      "  -3.52321076e+00  9.83233738e+00]\n",
      " [-5.34064323e-02 -6.91640949e+00 -1.26013947e+01 -1.10154486e+01\n",
      "  -2.95938587e+00  8.33274841e+00  1.47034082e+01 -1.60864029e+01\n",
      "   1.78768918e-01 -3.58134341e+00]\n",
      " [ 2.53279805e+00 -4.92950916e+00 -1.38744640e+01 -1.69960346e+01\n",
      "   2.95429468e+00  2.47335243e+00  1.50648394e+01 -1.37030106e+01\n",
      "  -3.29362535e+00 -7.31832218e+00]\n",
      " [-7.64182949e+00 -9.74827671e+00 -1.47509003e+01  2.22499943e+00\n",
      "  -7.48082829e+00  1.77895126e+01 -3.85023189e+00 -1.05989542e+01\n",
      "  -2.49234080e+00  3.22722483e+00]\n",
      " [-8.01262093e+00 -3.29164863e-01 -3.47812510e+00 -6.25699377e+00\n",
      "   1.10301371e+01 -7.34052467e+00 -9.06847095e+00 -1.13875210e+00\n",
      "  -4.60401297e+00 -5.31888604e-02]\n",
      " [ 1.32907248e+01 -9.73522282e+00 -7.24616349e-01 -1.06627340e+01\n",
      "  -5.11237192e+00 -6.03908253e+00 -1.50182283e+00 -7.68690109e+00\n",
      "  -1.00042081e+00 -2.77326751e+00]\n",
      " [-4.66201210e+00 -3.61597037e+00  1.04375318e-01 -6.68835104e-01\n",
      "  -3.33133125e+00 -4.83483219e+00 -1.45828772e+01  9.75234699e+00\n",
      "  -4.45061731e+00  2.15121102e+00]\n",
      " [-1.43356714e+01 -4.25607204e+00 -8.64058113e+00 -1.10064640e+01\n",
      "   2.12646828e+01 -1.00663319e+01 -1.85402107e+01 -4.30641127e+00\n",
      "  -7.45417643e+00  2.94805312e+00]\n",
      " [ 1.45640345e+01 -1.01294184e+01 -9.70675766e-01 -6.27328396e+00\n",
      "  -1.16621819e+01 -5.50342798e+00 -5.21108246e+00 -8.64332771e+00\n",
      "  -1.68562484e+00 -4.10959053e+00]\n",
      " [-8.48226261e+00  9.67053604e+00 -3.74527240e+00 -5.94208050e+00\n",
      "  -1.81345069e+00 -6.80770540e+00 -8.15696907e+00 -3.93619418e+00\n",
      "  -3.04613757e+00 -3.49684477e+00]\n",
      " [-1.05500669e+01 -1.55431676e+00 -2.41759086e+00  1.93275928e+01\n",
      "  -1.24135981e+01  2.08838964e+00 -1.58098421e+01 -5.83365822e+00\n",
      "   4.77849633e-01 -5.34688473e-01]\n",
      " [-6.19793034e+00  8.64608765e+00 -4.18982172e+00 -5.71064568e+00\n",
      "  -1.51115584e+00 -6.02208662e+00 -7.43200636e+00 -3.88501048e+00\n",
      "  -2.56591225e+00 -2.53132939e+00]\n",
      " [-1.21370659e+01  1.20436537e+00 -2.81698918e+00  1.89200687e+01\n",
      "  -1.07871256e+01  3.96065378e+00 -1.13440704e+01 -9.25097370e+00\n",
      "   1.01897764e+00 -3.89665627e+00]\n",
      " [ 3.77877712e+00 -3.95029330e+00  3.12271309e+00 -1.23914814e+01\n",
      "   1.28160601e+01 -7.47066689e+00 -3.03068852e+00 -1.36707411e+01\n",
      "  -1.10203495e+01 -1.81373668e+00]\n",
      " [-1.18549814e+01 -2.89247155e+00  5.06363750e-01 -4.49358821e-01\n",
      "  -5.82864475e+00 -8.36823654e+00 -2.13629704e+01  1.35857592e+01\n",
      "  -1.91451335e+00 -5.60379744e-01]\n",
      " [-6.31279659e+00  5.90441561e+00  1.52342005e+01 -7.18353415e+00\n",
      "  -1.33925591e+01 -1.76225929e+01 -1.53593378e+01 -5.16350448e-01\n",
      "  -9.60567093e+00 -7.67589474e+00]\n",
      " [-8.77662182e+00  1.48154259e-01  5.71082211e+00  1.84896922e+00\n",
      "  -4.69448233e+00 -1.16460562e+01 -1.49359636e+01  9.32703972e+00\n",
      "  -6.59159184e-01 -3.45806336e+00]\n",
      " [-9.54528522e+00  1.17232666e+01 -5.41197634e+00 -9.37360859e+00\n",
      "  -2.82525444e+00 -9.29810047e+00 -1.01473866e+01 -2.87320399e+00\n",
      "  -3.55129409e+00 -3.68819213e+00]\n",
      " [ 4.56100404e-02  7.09684610e-01  1.04573860e+01 -5.37208414e+00\n",
      "  -9.24456692e+00 -1.09715929e+01 -7.48539066e+00 -3.84650254e+00\n",
      "  -5.42665148e+00 -7.71031570e+00]\n",
      " [-8.17080975e+00  1.11672573e+01 -5.33733082e+00 -9.82211208e+00\n",
      "  -3.43396902e+00 -9.75859261e+00 -8.61212540e+00 -2.88173366e+00\n",
      "  -2.87628198e+00 -3.31478906e+00]\n",
      " [-6.05943298e+00  7.97308874e+00 -3.09871292e+00 -5.35894489e+00\n",
      "  -3.06315947e+00 -5.39917231e+00 -5.53794622e+00 -2.38254380e+00\n",
      "  -3.04549551e+00 -3.09982681e+00]\n",
      " [-1.07364855e+01  1.08837748e+00  4.86711168e+00  1.33129823e+00\n",
      "  -1.47268641e+00 -9.98257160e+00 -1.30471020e+01  9.24012852e+00\n",
      "  -2.12314892e+00 -4.25360012e+00]\n",
      " [-1.38328896e+01 -1.02453887e+00 -8.85238647e+00 -1.03750706e+01\n",
      "   1.61974335e+01 -1.00980778e+01 -1.45273457e+01 -1.87568533e+00\n",
      "  -5.67653847e+00  1.14501655e+00]\n",
      " [-6.94419622e+00  2.22294354e+00  1.03353987e+01 -7.02671814e+00\n",
      "   2.50153637e+00 -1.02232409e+01 -2.86418438e+00 -2.65757561e+00\n",
      "  -7.60007763e+00 -7.05176926e+00]\n",
      " [-8.05512905e+00  3.33928168e-01 -1.18809927e+00  1.41900272e+01\n",
      "  -7.42196941e+00  1.49029291e+00 -1.06368666e+01 -5.12186623e+00\n",
      "  -6.27430499e-01 -1.85093367e+00]\n",
      " [-1.81097806e+00 -5.25678635e+00 -1.08589926e+01 -2.12909651e+00\n",
      "  -1.04713173e+01  1.26194735e+01  9.28199530e-01 -9.87632751e+00\n",
      "  -2.08504766e-01  1.08341599e+00]\n",
      " [-7.75764799e+00  9.80364323e+00 -3.55431199e+00 -6.01068687e+00\n",
      "  -9.88239467e-01 -7.48248005e+00 -7.38608789e+00 -5.40393734e+00\n",
      "  -3.23438478e+00 -4.16544437e+00]\n",
      " [-4.74548244e+00 -3.14938378e+00  1.57309294e+01 -2.56062269e+00\n",
      "  -6.75982666e+00 -8.56135273e+00 -6.66477871e+00 -6.15289211e+00\n",
      "  -2.18311310e+00 -1.07656612e+01]\n",
      " [-1.23791447e+01 -4.42062616e+00 -8.90211105e+00 -1.07795658e+01\n",
      "   1.74414883e+01 -8.97707462e+00 -1.76339016e+01 -2.67873263e+00\n",
      "  -6.18682861e+00  5.91298866e+00]\n",
      " [-8.59661102e+00 -5.39813471e+00 -5.19265032e+00 -9.11010647e+00\n",
      "   1.69277306e+01 -7.39452219e+00 -1.33425407e+01 -3.27177072e+00\n",
      "  -7.35019588e+00  1.81707251e+00]\n",
      " [ 5.13626671e+00 -5.31173372e+00 -1.17048750e+01 -1.37359123e+01\n",
      "  -1.55758488e+00  4.43500566e+00  1.50617561e+01 -1.48125353e+01\n",
      "  -4.00408888e+00 -4.35857534e+00]\n",
      " [-1.07530231e+01 -5.47748685e-01 -2.68664932e+00  1.88045998e+01\n",
      "  -1.35824051e+01  2.32880831e+00 -1.28338203e+01 -8.82158184e+00\n",
      "   1.84848118e+00 -4.43307543e+00]\n",
      " [-6.67153025e+00 -9.48783302e+00 -1.46315136e+01  3.37521315e+00\n",
      "  -5.18117762e+00  1.63751354e+01 -6.48404503e+00 -1.11370668e+01\n",
      "   3.80457759e-01  6.47163820e+00]\n",
      " [-5.92137098e+00 -6.19231033e+00 -1.07854204e+01  2.65364796e-01\n",
      "  -5.48969603e+00  1.19127369e+01 -2.25582957e+00 -6.56129694e+00\n",
      "   6.26686215e-01  2.78524566e+00]\n",
      " [ 1.18284321e+00 -4.78287745e+00 -1.52058315e+01 -1.66422501e+01\n",
      "   1.91596150e-02  5.40113735e+00  2.09642105e+01 -2.25547256e+01\n",
      "   4.61403579e-02 -9.19673920e+00]\n",
      " [ 1.19778862e+01 -5.28210497e+00 -2.49558163e+00 -8.06198025e+00\n",
      "  -9.78193760e+00 -3.61579466e+00 -2.34869266e+00 -4.39903450e+00\n",
      "  -2.82743120e+00 -2.97114992e+00]\n",
      " [-1.57621746e+01 -3.31107688e+00 -7.95338583e+00 -1.17144871e+01\n",
      "   2.23197422e+01 -1.21031895e+01 -1.79799023e+01 -3.23546886e+00\n",
      "  -8.44956684e+00  1.99725851e-01]\n",
      " [-1.01002893e+01  1.10891190e+01 -3.56700540e+00 -9.29559898e+00\n",
      "  -2.41146088e+00 -1.09673605e+01 -8.78234768e+00 -1.00066257e+00\n",
      "  -4.41872597e+00 -4.88505745e+00]\n",
      " [-7.45490456e+00 -1.08857574e+01 -1.20545683e+01 -4.27225876e+00\n",
      "   2.81383467e+00 -5.41349173e+00 -2.61114388e+01  2.42370296e+00\n",
      "  -5.45901537e+00  1.88160305e+01]\n",
      " [-8.20136070e+00 -5.78000498e+00 -1.13689375e+01 -1.28652036e-01\n",
      "  -3.39028358e+00  1.07357998e+01 -5.30600119e+00 -2.07858562e+00\n",
      "   9.06327248e-01  1.67347419e+00]\n",
      " [-6.99719763e+00 -3.22811556e+00  2.69041240e-01  1.53797293e+00\n",
      "  -3.26014757e+00 -3.97484517e+00 -1.67103519e+01  1.09961481e+01\n",
      "  -3.63112092e+00  1.10427177e+00]\n",
      " [-5.35903549e+00 -9.27622414e+00  1.90574706e-01 -2.07542944e+00\n",
      "  -1.32638721e+01 -2.45802116e+00 -9.06742191e+00 -1.48292551e+01\n",
      "   1.62104111e+01  1.88900340e+00]\n",
      " [-5.00275660e+00 -8.40127182e+00 -1.10965052e+01 -4.80737591e+00\n",
      "  -1.26954567e+00  6.49037552e+00 -6.94691658e+00 -2.37271714e+00\n",
      "   1.98714733e+00  7.51165676e+00]\n",
      " [-8.18249702e+00 -5.98508000e-01  3.33743548e+00  1.41337452e+01\n",
      "  -9.54787159e+00 -6.91849089e+00 -1.89896584e+01 -1.97951889e+00\n",
      "   2.00741529e+00  4.64234710e-01]]\n",
      "Ground truth: [7 2 1 0 4 1 4 9 5 9 0 6 9 0 1 5 9 7 3 4 9 6 6 5 4 0 7 4 0 1 3 1 3 4 7 2 7\n",
      " 1 2 1 1 7 4 2 3 5 1 2 4 4 6 3 5 5 6 0 4 1 9 5 7 8 9 3]\n"
     ]
    }
   ],
   "source": [
    "# Make predictions with CNN on the first batch of test images\n",
    "x_img, y_true = next(iter(test_loader))\n",
    "model_cnn.eval()\n",
    "y_pred = model_cnn(x_img)\n",
    "\n",
    "print(\"Predictions (logits):\", y_pred.squeeze().detach().numpy())\n",
    "print(\"Predictions (binary):\", y_pred.squeeze().detach().numpy())\n",
    "print(\"Ground truth:\", y_true.numpy())"
   ]
  },
  {
   "cell_type": "code",
   "execution_count": 17,
   "metadata": {},
   "outputs": [
    {
     "name": "stdout",
     "output_type": "stream",
     "text": [
      "Predicted values: tensor([[-1.0200e+01, -3.4147e+00, -7.4610e-01, -1.7687e+00, -6.5104e+00,\n",
      "         -6.1382e+00, -1.9760e+01,  1.4042e+01, -2.7751e+00, -1.2290e+00],\n",
      "        [-9.5517e-01,  2.0025e-01,  1.5749e+01, -9.6210e+00, -1.4148e+01,\n",
      "         -1.4567e+01, -1.1385e+01, -9.6177e+00, -7.4941e+00, -1.1531e+01],\n",
      "        [-1.0264e+01,  1.1644e+01, -4.9495e+00, -1.0344e+01, -3.6766e+00,\n",
      "         -9.0909e+00, -7.8169e+00, -1.6003e+00, -5.2109e+00, -5.7552e+00],\n",
      "        [ 1.6657e+01, -1.0327e+01, -5.0588e+00, -1.2237e+01, -7.9515e+00,\n",
      "         -5.7665e+00, -2.6041e-01, -7.1020e+00, -4.7783e+00, -2.6232e+00],\n",
      "        [-8.2938e+00, -3.5361e+00, -4.9344e+00, -1.1060e+01,  1.7014e+01,\n",
      "         -1.0884e+01, -1.6038e+01, -4.4814e+00, -7.4963e+00,  5.5464e+00],\n",
      "        [-1.1464e+01,  1.3568e+01, -5.7594e+00, -1.2739e+01, -3.9131e+00,\n",
      "         -1.1960e+01, -1.0070e+01, -1.4259e+00, -5.6076e+00, -6.0657e+00],\n",
      "        [-1.3689e+01, -2.8511e+00, -8.9429e+00, -1.0257e+01,  1.1374e+01,\n",
      "         -5.5074e+00, -1.1207e+01, -6.3719e-01,  2.7162e+00,  2.1550e+00],\n",
      "        [-3.7584e+00, -5.4207e+00, -4.2430e+00, -2.8130e+00,  3.5395e+00,\n",
      "         -1.9816e+00, -1.1528e+01, -4.1909e+00,  1.5522e-01,  9.1111e+00],\n",
      "        [-5.5539e+00, -5.9721e+00, -1.0715e+01, -4.7772e+00, -1.9292e+00,\n",
      "          1.1075e+01,  3.0725e+00, -1.2055e+01,  2.6247e+00,  5.1882e-01],\n",
      "        [-8.7352e+00, -9.3884e+00, -9.3975e+00, -4.7290e+00,  2.1328e+00,\n",
      "         -6.9678e+00, -2.2532e+01,  3.4938e+00, -2.0975e+00,  1.4579e+01],\n",
      "        [ 1.7238e+01, -9.4926e+00, -1.6535e+00, -9.9456e+00, -1.2552e+01,\n",
      "         -7.4994e+00, -4.7774e+00, -6.6072e+00, -4.2366e+00, -3.1793e+00],\n",
      "        [ 5.1466e+00, -3.6264e+00, -1.3533e+01, -1.4031e+01, -1.5091e+00,\n",
      "          3.1497e+00,  1.7337e+01, -1.8757e+01, -1.3850e+00, -7.2659e+00],\n",
      "        [-8.3382e+00, -1.0703e+01, -1.1549e+01, -4.8686e+00,  3.0219e+00,\n",
      "         -4.8463e+00, -2.3327e+01,  2.3660e+00, -3.1102e+00,  1.6627e+01],\n",
      "        [ 1.5507e+01, -1.2351e+01, -5.2608e+00, -1.0058e+01, -8.7326e+00,\n",
      "         -4.0495e+00, -4.5434e+00, -4.4641e+00, -3.6585e+00,  3.0585e-01],\n",
      "        [-1.0264e+01,  1.4120e+01, -7.8140e+00, -8.2569e+00, -4.5792e+00,\n",
      "         -7.3193e+00, -9.1183e+00, -5.5375e+00, -4.8815e+00, -5.5458e+00],\n",
      "        [-5.3622e+00, -1.3921e+00, -7.3582e+00,  5.6232e+00, -1.0944e+01,\n",
      "          1.3608e+01, -3.3157e+00, -8.2484e+00, -1.8980e+00, -1.2857e+00],\n",
      "        [-4.8298e+00, -1.2418e+01, -7.4074e+00, -5.4087e+00,  1.6035e+00,\n",
      "         -6.9868e+00, -2.2503e+01,  2.2913e+00, -1.7292e+00,  1.6107e+01],\n",
      "        [-4.2450e+00, -5.0206e+00,  1.4432e+00,  2.0507e-01, -6.9377e+00,\n",
      "         -6.3939e+00, -1.7589e+01,  1.2010e+01, -3.2744e+00,  5.4082e-01],\n",
      "        [-1.6314e+00, -1.2652e+00, -5.2325e-01,  6.4968e+00, -5.4283e+00,\n",
      "          3.6113e+00, -2.4250e+00, -1.1006e+01,  2.7669e+00, -1.7224e+00],\n",
      "        [-1.2330e+01, -2.4704e+00, -6.5059e+00, -7.7780e+00,  1.6610e+01,\n",
      "         -8.1371e+00, -1.3007e+01, -1.9695e+00, -6.7642e+00,  4.7408e-01],\n",
      "        [-4.9909e+00, -5.8336e+00, -7.0604e+00, -4.0201e+00,  2.6202e+00,\n",
      "         -5.4488e+00, -1.6948e+01,  4.3042e+00, -3.5232e+00,  9.8323e+00],\n",
      "        [-5.3406e-02, -6.9164e+00, -1.2601e+01, -1.1015e+01, -2.9594e+00,\n",
      "          8.3327e+00,  1.4703e+01, -1.6086e+01,  1.7877e-01, -3.5813e+00],\n",
      "        [ 2.5328e+00, -4.9295e+00, -1.3874e+01, -1.6996e+01,  2.9543e+00,\n",
      "          2.4734e+00,  1.5065e+01, -1.3703e+01, -3.2936e+00, -7.3183e+00],\n",
      "        [-7.6418e+00, -9.7483e+00, -1.4751e+01,  2.2250e+00, -7.4808e+00,\n",
      "          1.7790e+01, -3.8502e+00, -1.0599e+01, -2.4923e+00,  3.2272e+00],\n",
      "        [-8.0126e+00, -3.2916e-01, -3.4781e+00, -6.2570e+00,  1.1030e+01,\n",
      "         -7.3405e+00, -9.0685e+00, -1.1388e+00, -4.6040e+00, -5.3189e-02],\n",
      "        [ 1.3291e+01, -9.7352e+00, -7.2462e-01, -1.0663e+01, -5.1124e+00,\n",
      "         -6.0391e+00, -1.5018e+00, -7.6869e+00, -1.0004e+00, -2.7733e+00],\n",
      "        [-4.6620e+00, -3.6160e+00,  1.0438e-01, -6.6884e-01, -3.3313e+00,\n",
      "         -4.8348e+00, -1.4583e+01,  9.7523e+00, -4.4506e+00,  2.1512e+00],\n",
      "        [-1.4336e+01, -4.2561e+00, -8.6406e+00, -1.1006e+01,  2.1265e+01,\n",
      "         -1.0066e+01, -1.8540e+01, -4.3064e+00, -7.4542e+00,  2.9481e+00],\n",
      "        [ 1.4564e+01, -1.0129e+01, -9.7068e-01, -6.2733e+00, -1.1662e+01,\n",
      "         -5.5034e+00, -5.2111e+00, -8.6433e+00, -1.6856e+00, -4.1096e+00],\n",
      "        [-8.4823e+00,  9.6705e+00, -3.7453e+00, -5.9421e+00, -1.8135e+00,\n",
      "         -6.8077e+00, -8.1570e+00, -3.9362e+00, -3.0461e+00, -3.4968e+00],\n",
      "        [-1.0550e+01, -1.5543e+00, -2.4176e+00,  1.9328e+01, -1.2414e+01,\n",
      "          2.0884e+00, -1.5810e+01, -5.8337e+00,  4.7785e-01, -5.3469e-01],\n",
      "        [-6.1979e+00,  8.6461e+00, -4.1898e+00, -5.7106e+00, -1.5112e+00,\n",
      "         -6.0221e+00, -7.4320e+00, -3.8850e+00, -2.5659e+00, -2.5313e+00],\n",
      "        [-1.2137e+01,  1.2044e+00, -2.8170e+00,  1.8920e+01, -1.0787e+01,\n",
      "          3.9607e+00, -1.1344e+01, -9.2510e+00,  1.0190e+00, -3.8967e+00],\n",
      "        [ 3.7788e+00, -3.9503e+00,  3.1227e+00, -1.2391e+01,  1.2816e+01,\n",
      "         -7.4707e+00, -3.0307e+00, -1.3671e+01, -1.1020e+01, -1.8137e+00],\n",
      "        [-1.1855e+01, -2.8925e+00,  5.0636e-01, -4.4936e-01, -5.8286e+00,\n",
      "         -8.3682e+00, -2.1363e+01,  1.3586e+01, -1.9145e+00, -5.6038e-01],\n",
      "        [-6.3128e+00,  5.9044e+00,  1.5234e+01, -7.1835e+00, -1.3393e+01,\n",
      "         -1.7623e+01, -1.5359e+01, -5.1635e-01, -9.6057e+00, -7.6759e+00],\n",
      "        [-8.7766e+00,  1.4815e-01,  5.7108e+00,  1.8490e+00, -4.6945e+00,\n",
      "         -1.1646e+01, -1.4936e+01,  9.3270e+00, -6.5916e-01, -3.4581e+00],\n",
      "        [-9.5453e+00,  1.1723e+01, -5.4120e+00, -9.3736e+00, -2.8253e+00,\n",
      "         -9.2981e+00, -1.0147e+01, -2.8732e+00, -3.5513e+00, -3.6882e+00],\n",
      "        [ 4.5610e-02,  7.0968e-01,  1.0457e+01, -5.3721e+00, -9.2446e+00,\n",
      "         -1.0972e+01, -7.4854e+00, -3.8465e+00, -5.4267e+00, -7.7103e+00],\n",
      "        [-8.1708e+00,  1.1167e+01, -5.3373e+00, -9.8221e+00, -3.4340e+00,\n",
      "         -9.7586e+00, -8.6121e+00, -2.8817e+00, -2.8763e+00, -3.3148e+00],\n",
      "        [-6.0594e+00,  7.9731e+00, -3.0987e+00, -5.3589e+00, -3.0632e+00,\n",
      "         -5.3992e+00, -5.5379e+00, -2.3825e+00, -3.0455e+00, -3.0998e+00],\n",
      "        [-1.0736e+01,  1.0884e+00,  4.8671e+00,  1.3313e+00, -1.4727e+00,\n",
      "         -9.9826e+00, -1.3047e+01,  9.2401e+00, -2.1231e+00, -4.2536e+00],\n",
      "        [-1.3833e+01, -1.0245e+00, -8.8524e+00, -1.0375e+01,  1.6197e+01,\n",
      "         -1.0098e+01, -1.4527e+01, -1.8757e+00, -5.6765e+00,  1.1450e+00],\n",
      "        [-6.9442e+00,  2.2229e+00,  1.0335e+01, -7.0267e+00,  2.5015e+00,\n",
      "         -1.0223e+01, -2.8642e+00, -2.6576e+00, -7.6001e+00, -7.0518e+00],\n",
      "        [-8.0551e+00,  3.3393e-01, -1.1881e+00,  1.4190e+01, -7.4220e+00,\n",
      "          1.4903e+00, -1.0637e+01, -5.1219e+00, -6.2743e-01, -1.8509e+00],\n",
      "        [-1.8110e+00, -5.2568e+00, -1.0859e+01, -2.1291e+00, -1.0471e+01,\n",
      "          1.2619e+01,  9.2820e-01, -9.8763e+00, -2.0850e-01,  1.0834e+00],\n",
      "        [-7.7576e+00,  9.8036e+00, -3.5543e+00, -6.0107e+00, -9.8824e-01,\n",
      "         -7.4825e+00, -7.3861e+00, -5.4039e+00, -3.2344e+00, -4.1654e+00],\n",
      "        [-4.7455e+00, -3.1494e+00,  1.5731e+01, -2.5606e+00, -6.7598e+00,\n",
      "         -8.5614e+00, -6.6648e+00, -6.1529e+00, -2.1831e+00, -1.0766e+01],\n",
      "        [-1.2379e+01, -4.4206e+00, -8.9021e+00, -1.0780e+01,  1.7441e+01,\n",
      "         -8.9771e+00, -1.7634e+01, -2.6787e+00, -6.1868e+00,  5.9130e+00],\n",
      "        [-8.5966e+00, -5.3981e+00, -5.1927e+00, -9.1101e+00,  1.6928e+01,\n",
      "         -7.3945e+00, -1.3343e+01, -3.2718e+00, -7.3502e+00,  1.8171e+00],\n",
      "        [ 5.1363e+00, -5.3117e+00, -1.1705e+01, -1.3736e+01, -1.5576e+00,\n",
      "          4.4350e+00,  1.5062e+01, -1.4813e+01, -4.0041e+00, -4.3586e+00],\n",
      "        [-1.0753e+01, -5.4775e-01, -2.6866e+00,  1.8805e+01, -1.3582e+01,\n",
      "          2.3288e+00, -1.2834e+01, -8.8216e+00,  1.8485e+00, -4.4331e+00],\n",
      "        [-6.6715e+00, -9.4878e+00, -1.4632e+01,  3.3752e+00, -5.1812e+00,\n",
      "          1.6375e+01, -6.4840e+00, -1.1137e+01,  3.8046e-01,  6.4716e+00],\n",
      "        [-5.9214e+00, -6.1923e+00, -1.0785e+01,  2.6536e-01, -5.4897e+00,\n",
      "          1.1913e+01, -2.2558e+00, -6.5613e+00,  6.2669e-01,  2.7852e+00],\n",
      "        [ 1.1828e+00, -4.7829e+00, -1.5206e+01, -1.6642e+01,  1.9160e-02,\n",
      "          5.4011e+00,  2.0964e+01, -2.2555e+01,  4.6140e-02, -9.1967e+00],\n",
      "        [ 1.1978e+01, -5.2821e+00, -2.4956e+00, -8.0620e+00, -9.7819e+00,\n",
      "         -3.6158e+00, -2.3487e+00, -4.3990e+00, -2.8274e+00, -2.9711e+00],\n",
      "        [-1.5762e+01, -3.3111e+00, -7.9534e+00, -1.1714e+01,  2.2320e+01,\n",
      "         -1.2103e+01, -1.7980e+01, -3.2355e+00, -8.4496e+00,  1.9973e-01],\n",
      "        [-1.0100e+01,  1.1089e+01, -3.5670e+00, -9.2956e+00, -2.4115e+00,\n",
      "         -1.0967e+01, -8.7823e+00, -1.0007e+00, -4.4187e+00, -4.8851e+00],\n",
      "        [-7.4549e+00, -1.0886e+01, -1.2055e+01, -4.2723e+00,  2.8138e+00,\n",
      "         -5.4135e+00, -2.6111e+01,  2.4237e+00, -5.4590e+00,  1.8816e+01],\n",
      "        [-8.2014e+00, -5.7800e+00, -1.1369e+01, -1.2865e-01, -3.3903e+00,\n",
      "          1.0736e+01, -5.3060e+00, -2.0786e+00,  9.0633e-01,  1.6735e+00],\n",
      "        [-6.9972e+00, -3.2281e+00,  2.6904e-01,  1.5380e+00, -3.2601e+00,\n",
      "         -3.9748e+00, -1.6710e+01,  1.0996e+01, -3.6311e+00,  1.1043e+00],\n",
      "        [-5.3590e+00, -9.2762e+00,  1.9057e-01, -2.0754e+00, -1.3264e+01,\n",
      "         -2.4580e+00, -9.0674e+00, -1.4829e+01,  1.6210e+01,  1.8890e+00],\n",
      "        [-5.0028e+00, -8.4013e+00, -1.1097e+01, -4.8074e+00, -1.2695e+00,\n",
      "          6.4904e+00, -6.9469e+00, -2.3727e+00,  1.9871e+00,  7.5117e+00],\n",
      "        [-8.1825e+00, -5.9851e-01,  3.3374e+00,  1.4134e+01, -9.5479e+00,\n",
      "         -6.9185e+00, -1.8990e+01, -1.9795e+00,  2.0074e+00,  4.6423e-01]],\n",
      "       grad_fn=<AddmmBackward0>), Real values: tensor([7, 2, 1, 0, 4, 1, 4, 9, 5, 9, 0, 6, 9, 0, 1, 5, 9, 7, 3, 4, 9, 6, 6, 5,\n",
      "        4, 0, 7, 4, 0, 1, 3, 1, 3, 4, 7, 2, 7, 1, 2, 1, 1, 7, 4, 2, 3, 5, 1, 2,\n",
      "        4, 4, 6, 3, 5, 5, 6, 0, 4, 1, 9, 5, 7, 8, 9, 3])\n"
     ]
    }
   ],
   "source": [
    "x_img, y_true = next(iter(test_loader))\n",
    "model_cnn.eval()\n",
    "y_pred = model_cnn(x_img)\n",
    "print(f\"Predicted values: {y_pred}, Real values: {y_true}\")"
   ]
  }
 ],
 "metadata": {
  "accelerator": "GPU",
  "colab": {
   "provenance": []
  },
  "gpuClass": "standard",
  "kernelspec": {
   "display_name": "base",
   "language": "python",
   "name": "python3"
  },
  "language_info": {
   "codemirror_mode": {
    "name": "ipython",
    "version": 3
   },
   "file_extension": ".py",
   "mimetype": "text/x-python",
   "name": "python",
   "nbconvert_exporter": "python",
   "pygments_lexer": "ipython3",
   "version": "3.13.5"
  }
 },
 "nbformat": 4,
 "nbformat_minor": 4
}
