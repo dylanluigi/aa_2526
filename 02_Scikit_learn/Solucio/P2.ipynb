{
 "cells": [
  {
   "metadata": {},
   "cell_type": "markdown",
   "source": [
    "# Pràctica II - Perceptron amb Scikit-learn\n",
    "\n",
    "En la sessió anterior hem implementat i entrenat un perceptró des de zero, analitzant pas a pas el seu funcionament intern. Ara, donarem un pas més i treballarem amb la implementació ja disponible a la llibreria scikit-learn, que ens permetrà concentrar-nos en el procés d’aplicació del model a un conjunt de dades real.\n",
    "\n",
    "Per tal d’il·lustrar-ho, farem servir el problema del Titanic, que ja coneixeu del curs anterior. L’objectiu és predir si un passatger va sobreviure o no al naufragi a partir d’algunes de les seves característiques (edat, sexe, classe del bitllet, etc.).\n",
    "\n",
    "Tasques a realitzar\n",
    "\n",
    "1. Carregar i preparar les dades\n",
    "   - Importar el conjunt de dades del Titanic.\n",
    "   - Seleccionar les variables més rellevants i realitzar els preprocessaments necessaris (tractament de valors NaNs, codificació de variables categòriques i normalització).\n",
    "   - Dividir les dades en conjunts d’entrenament i validació.\n",
    "\n",
    "2. Definir i entrenar el model\n",
    "   - Utilitzar la classe Perceptron de ``sklearn.linear_model``.\n",
    "   - Ajustar el model amb les dades d’entrenament.\n",
    "   - Utilitzar el perceptró implementat la sessió anterior per comparar resultats.\n",
    "\n",
    "3. Avaluar el rendiment\n",
    "   - Calcular la *accuracy* sobre les dades de validació.\n",
    "   - Analitzar la matriu de confusió per entendre millor els encerts i errors del model.\n",
    "   - Comparar els resultats de ``scikit-learn`` amb la vostra implementació prèvia."
   ],
   "id": "15bb3b11a2648c42"
  },
  {
   "metadata": {},
   "cell_type": "code",
   "outputs": [],
   "execution_count": null,
   "source": [
    "import pandas as pd\n",
    "from sklearn.model_selection import train_test_split"
   ],
   "id": "f77ef88d2fbacc18"
  },
  {
   "metadata": {},
   "cell_type": "markdown",
   "source": "Podeu trobar les dades del Titanic a [Kaggle](https://www.kaggle.com/competitions/titanic/overview).",
   "id": "55c2819c1c86f7c0"
  },
  {
   "metadata": {},
   "cell_type": "code",
   "outputs": [],
   "execution_count": null,
   "source": "df = pd.read_csv('titanic.csv')",
   "id": "45f95cc6b75bccce"
  },
  {
   "metadata": {},
   "cell_type": "markdown",
   "source": [
    "## Neteja de dades\n",
    "\n",
    "### Codificació de variables categòriques\n",
    "\n",
    "Farem servir la codificació *one-hot* per a les variables categòriques, ``pandas`` té una funció que ens ho facilita: ``get_dummies()``."
   ],
   "id": "3cbf8201ac2a8318"
  },
  {
   "metadata": {},
   "cell_type": "code",
   "outputs": [],
   "execution_count": null,
   "source": "",
   "id": "1653770b3a2cd691"
  },
  {
   "metadata": {},
   "cell_type": "markdown",
   "source": [
    "### Eliminació de les columnes sense informació\n",
    "\n",
    "Hi ha algunes columnes que no aporten informació rellevant per a la predicció, com ara el nom del passatger o el número del bitllet. Les hem d'eliminar."
   ],
   "id": "f85428816e316096"
  },
  {
   "metadata": {},
   "cell_type": "code",
   "outputs": [],
   "execution_count": null,
   "source": "",
   "id": "25897648be7990c5"
  },
  {
   "metadata": {},
   "cell_type": "markdown",
   "source": [
    "### Normalitzam les dades\n",
    "\n",
    "Hem de normalitzar les dades per tal que totes les característiques tinguin la mateixa escala. Això és especialment important per a algorismes com el perceptró, que són sensibles a la magnitud de les característiques."
   ],
   "id": "8fc207eb2c3aa1be"
  },
  {
   "metadata": {},
   "cell_type": "code",
   "outputs": [],
   "execution_count": null,
   "source": "",
   "id": "5c44435fa00147f9"
  },
  {
   "metadata": {},
   "cell_type": "markdown",
   "source": [
    "### Tractament de valors NaN\n",
    "\n",
    "Els valors NaN els hem de tractar abans d'entrenar el model. Podem optar per eliminar les files amb valors NaN o bé imputar-los amb la mitjana, mediana o moda de la columna. Pandas ens ofereix diverses funcions per fer-ho. Per exemple, podem utilitzar ``fillna()`` per imputar valors, o ``dropna()`` per eliminar files amb valors NaN."
   ],
   "id": "122c880687254839"
  },
  {
   "metadata": {},
   "cell_type": "code",
   "outputs": [],
   "execution_count": null,
   "source": "",
   "id": "d9cce64b0c80cb8e"
  },
  {
   "metadata": {},
   "cell_type": "markdown",
   "source": [
    "### Divisió del conjunt de dades\n",
    "\n",
    "Separarem les dades en un conjunt d'entrenament i un de validació. Això ens permetrà avaluar el rendiment del model en dades que no ha vist durant l'entrenament. S'utilitza la funció ``train_test_split()`` de ``sklearn.model_selection``."
   ],
   "id": "274ec24c5f7c94b1"
  },
  {
   "metadata": {},
   "cell_type": "code",
   "outputs": [],
   "execution_count": null,
   "source": "",
   "id": "72bb13186a72271d"
  },
  {
   "metadata": {},
   "cell_type": "markdown",
   "source": [
    "## Entrenament i avaluació del model\n",
    "\n",
    "Hem d'entrenar el perceptró amb les dades d'entrenament i després avaluar-lo amb les dades de validació. Hem de fer dos entrenaments, un amb la nostra implementació i un altre amb la de ``scikit-learn``. Per emprar la de ``scikit-learn``, utilitzarem la classe ``Perceptron`` de ``sklearn.linear_model``."
   ],
   "id": "8fa684e60de94a7c"
  },
  {
   "metadata": {},
   "cell_type": "code",
   "outputs": [],
   "execution_count": null,
   "source": "",
   "id": "99a1512fca79de3d"
  }
 ],
 "metadata": {
  "kernelspec": {
   "display_name": "Python 3",
   "language": "python",
   "name": "python3"
  },
  "language_info": {
   "codemirror_mode": {
    "name": "ipython",
    "version": 2
   },
   "file_extension": ".py",
   "mimetype": "text/x-python",
   "name": "python",
   "nbconvert_exporter": "python",
   "pygments_lexer": "ipython2",
   "version": "2.7.6"
  }
 },
 "nbformat": 4,
 "nbformat_minor": 5
}
